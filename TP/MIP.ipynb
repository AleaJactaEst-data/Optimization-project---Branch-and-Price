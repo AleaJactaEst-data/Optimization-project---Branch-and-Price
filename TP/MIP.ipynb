{
 "cells": [
  {
   "cell_type": "code",
   "execution_count": 24,
   "metadata": {},
   "outputs": [
    {
     "ename": "LoadError",
     "evalue": "LoadError: UndefVarError: @variable not defined\nin expression starting at In[24]:3",
     "output_type": "error",
     "traceback": [
      "LoadError: UndefVarError: @variable not defined\nin expression starting at In[24]:3",
      "",
      "Stacktrace:",
      " [1] top-level scope",
      " [2] include_string(::Function, ::Module, ::String, ::String) at .\\loading.jl:1091"
     ]
    }
   ],
   "source": [
    "function solve_MIP()\n",
    "    GAP=Model(Cbc.Optimizer)\n",
    "    @variable(GAP,x[m in 1:D.m,j in 1:D.n],Bin)\n",
    "    \n",
    "    # Constraint: Each job should be assigned to a machine\n",
    "    # Constraint: The capacity of each machine should be respected\n",
    "    # Objective: Minimize the total cost of assigning jobs to machines\n",
    "\n",
    "    for j in 1:D.n\n",
    "        @constraint(GAP, sum(x[i,j] for i in 1:D.m) == 1 )\n",
    "    end\n",
    "    \n",
    "\n",
    "    for i in 1:D.m\n",
    "        @constraint(GAP, sum( (D.t[i,j]*x[i,j]) for j in 1:D.n ) <= D.Tmax[i])\n",
    "    end\n",
    "    \n",
    "    @objective(GAP, Min, sum( sum(D.c[i,j]*x[i,j] for i in 1:D.m) for j in 1:D.n))\n",
    "    \n",
    "    optimize!(GAP)\n",
    "\n",
    "    return JuMP.objective_value(GAP),JuMP.value.(x)\n",
    "end"
   ]
  }
 ],
 "metadata": {
  "kernelspec": {
   "display_name": "Python 3",
   "language": "python",
   "name": "python3"
  },
  "language_info": {
   "file_extension": ".jl",
   "mimetype": "application/julia",
   "name": "julia",
   "version": "3.7.4-final"
  }
 },
 "nbformat": 4,
 "nbformat_minor": 2
}