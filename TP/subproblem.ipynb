{
 "cells": [
  {
   "cell_type": "code",
   "execution_count": null,
   "metadata": {},
   "outputs": [],
   "source": [
    "function machine_subproblem(m,π,node)\n",
    "    #SP=Model(optimizer_with_attributes(() -> Gurobi.Optimizer(GUROBI_ENV)))\n",
    "    SP=Model(optimizer_with_attributes(() -> Cbc.Optimizer(CBC_ENV)))\n",
    "    set_optimizer_attribute(SP, \"OutputFlag\", 0)\n",
    "    \n",
    "    # pi\n",
    "    # m : la machine\n",
    "    # node pas besoin : sommet\n",
    "    \n",
    "    @variable(SP,y[i in 1:D.n],Bin)\n",
    "    @constraint(SP,sum(D.t[m,i]*y[i] for i in 1:D.n)<=D.Tmax[m])\n",
    "    # TO COMPLETE WITH PRICING OBJECTIVE\n",
    "    \n",
    "    @objective( SP, sum((D.c[m,i]-pi[i])*y[i] for i in 1:D.n)) # -sigma ??\n",
    "\n",
    "    for (mprime,j) in tree[node].setzero\n",
    "        if mprime==m\n",
    "            #TO COMPLETE WITH BRANCHING CONSTRAINTS\n",
    "            @constraint(SP, )\n",
    "        end\n",
    "    end\n",
    "\n",
    "    for (mprime,j) in tree[node].setone\n",
    "        if mprime==m\n",
    "            #TO COMPLETE WITH BRANCHING CONSTRAINTS\n",
    "            @constraint(SP, )\n",
    "        end\n",
    "    end\n",
    "\n",
    "    optimize!(SP)\n",
    "\n",
    "    # If the subproblem is solved to optimality then return its objective \n",
    "    # and the optimal pattern solution for the machine\n",
    "    # Else the pricing problem is infeasible return Inf, []\n",
    "    if JuMP.termination_status(SP)==MOI.OPTIMAL\n",
    "        return JuMP.objective_value(SP),JuMP.value.(y)\n",
    "    else\n",
    "        return Inf,[]\n",
    "    end\n",
    "end"
   ]
  }
 ],
 "metadata": {
  "kernelspec": {
   "display_name": "Julia 1.5.3",
   "language": "julia",
   "name": "julia-1.5"
  },
  "language_info": {
   "file_extension": ".jl",
   "mimetype": "application/julia",
   "name": "julia",
   "version": "1.5.3"
  }
 },
 "nbformat": 4,
 "nbformat_minor": 2
}
