{
 "cells": [
  {
   "cell_type": "markdown",
   "metadata": {},
   "source": [
    "# TP: Generalized Assignment Problem\n",
    "\n",
    "A company wants to perform $n$ tasks using $m$ machines with minimum cost. Let the set of machines be given by $M=\\{1,\\ldots,m\\}$ and the set of tasks be given by $N=\\{1,\\ldots,n\\}$. We denote the cost of performing task $i$ on machine $j$ by $p_{ij}$ and the time it takes to perform task $i$ on machine $j$ by $t_{ij}$ for $i\\in N$ and $j\\in M$. The total capacity of each machine is $t^{max}_{j}$ for $j\\in M$. The problem of finding a minimum cost assignment of tasks to machines that respects machine capacities and performs all tasks is called the generalized assignment problem. We will refer to it as GAP in the following.\n",
    "\n",
    "The goal of this TP is to implement the branch-and-price algorithm for GAP and compare it to the direct solution of its mixed integer programming formulation. This implementation will be done using the Julia language \n",
    "with the help of several packages such as JuMP which includes the mathematical programming language macros and Gurobi which interfaces with the Gurobi solver.  "
   ]
  },
  {
   "cell_type": "code",
   "execution_count": 28,
   "metadata": {},
   "outputs": [
    {
     "data": {
      "text/plain": [
       "1.0e-5"
      ]
     },
     "execution_count": 28,
     "metadata": {},
     "output_type": "execute_result"
    }
   ],
   "source": [
    "import Pkg\n",
    "using JuMP\n",
    "using Cbc\n",
    "using DelimitedFiles\n",
    "using NBInclude\n",
    "\n",
    "const ϵ = 0.00001"
   ]
  },
  {
   "cell_type": "code",
   "execution_count": 2,
   "metadata": {},
   "outputs": [
    {
     "name": "stderr",
     "output_type": "stream",
     "text": [
      "\u001b[32m\u001b[1m   Updating\u001b[22m\u001b[39m registry at `C:\\Users\\xgodw\\.julia\\registries\\General`\n",
      "┌ Error: mktempdir cleanup\n",
      "│   exception = (InterruptException(), Union{Ptr{Nothing}, Base.InterpreterIP}[Ptr{Nothing} @0x000000000962ba15, Ptr{Nothing} @0x0000000009d2454b, Ptr{Nothing} @0x00000000097d74c8, Ptr{Nothing} @0x00000000097d7c3c, Ptr{Nothing} @0x000000000200683c, Ptr{Nothing} @0x0000000018551b39, Ptr{Nothing} @0x00000000185520f8, Ptr{Nothing} @0x0000000018550b2f, Ptr{Nothing} @0x0000000018546ef1, Ptr{Nothing} @0x000000001854c649, Ptr{Nothing} @0x000000001854cdde, Ptr{Nothing} @0x00000000184dcd00, Ptr{Nothing} @0x00000000184e03b8, Ptr{Nothing} @0x00000000184e043d, Ptr{Nothing} @0x000000006900a65c, Ptr{Nothing} @0x000000006900a321, Ptr{Nothing} @0x000000006900ae30, Ptr{Nothing} @0x000000006900b805, Base.InterpreterIP in top-level CodeInfo for Main at statement 1, Ptr{Nothing} @0x0000000069028efd, Ptr{Nothing} @0x0000000068ffd65b, Ptr{Nothing} @0x00000000099f45ef, Ptr{Nothing} @0x0000000001facfaf, Ptr{Nothing} @0x00000000184d82eb, Ptr{Nothing} @0x0000000069000d28, Ptr{Nothing} @0x000000006900153a, Ptr{Nothing} @0x0000000001f98e0f, Ptr{Nothing} @0x0000000001f99048, Ptr{Nothing} @0x0000000001f99063, Ptr{Nothing} @0x000000006900f63f])\n",
      "└ @ Base.Filesystem file.jl:717\n",
      "\u001b[32m\u001b[1m  Resolving\u001b[22m\u001b[39m package versions...\n",
      "\u001b[32m\u001b[1m  Installed\u001b[22m\u001b[39m NBInclude ─ v2.2.0\n",
      "\u001b[32m\u001b[1mUpdating\u001b[22m\u001b[39m `C:\\Users\\xgodw\\.julia\\environments\\v1.5\\Project.toml`\n",
      " \u001b[90m [0db19996] \u001b[39m\u001b[92m+ NBInclude v2.2.0\u001b[39m\n",
      "\u001b[32m\u001b[1mUpdating\u001b[22m\u001b[39m `C:\\Users\\xgodw\\.julia\\environments\\v1.5\\Manifest.toml`\n",
      " \u001b[90m [0db19996] \u001b[39m\u001b[92m+ NBInclude v2.2.0\u001b[39m\n",
      "┌ Info: Precompiling NBInclude [0db19996-df87-5ea3-a455-e3a50d440464]\n",
      "└ @ Base loading.jl:1278\n"
     ]
    },
    {
     "data": {
      "text/plain": [
       "1.0e-5"
      ]
     },
     "execution_count": 2,
     "metadata": {},
     "output_type": "execute_result"
    }
   ],
   "source": [
    "using JuMP\n",
    "#import Pkg\n",
    "#using Gurobi\n",
    "using Cbc\n",
    "#Pkg.add(\"NBInclude\")\n",
    "using DelimitedFiles\n",
    "using NBInclude\n",
    "#const GUROBI_ENV = Gurobi.Env()\n",
    "const ϵ = 0.00001"
   ]
  },
  {
   "cell_type": "markdown",
   "metadata": {},
   "source": [
    "The TP is structured in such a way that different parts of the code are hosted in different files. Below we export them so that their functions are callable from the main function."
   ]
  },
  {
   "cell_type": "code",
   "execution_count": 80,
   "metadata": {},
   "outputs": [
    {
     "data": {
      "text/plain": [
       "solve_MIP (generic function with 1 method)"
      ]
     },
     "execution_count": 80,
     "metadata": {},
     "output_type": "execute_result"
    }
   ],
   "source": [
    "@nbinclude(\"typedef.ipynb\")\n",
    "@nbinclude(\"data.ipynb\")\n",
    "@nbinclude(\"MIP.ipynb\")\n",
    "#@nbinclude(\"master.ipynb\")\n",
    "#@nbinclude(\"subproblem.ipynb\")\n",
    "#@nbinclude(\"branch_and_price.ipynb\")\n",
    "#@nbinclude(\"node.ipynb\")"
   ]
  },
  {
   "cell_type": "markdown",
   "metadata": {},
   "source": [
    "## Exercise 1\n",
    "Open the instance file Example.txt under the folder \\data, and read the files data.ipynb and typedef.ipynb under the folder \\src. The file typedef.ipynb contains the definitions for two structures that will be used throughout the code. These are Data and TreeNode. Focusing on Data for the moment, familiarize yourself with how the data is read and stored in the code. "
   ]
  },
  {
   "cell_type": "code",
   "execution_count": 81,
   "metadata": {},
   "outputs": [
    {
     "name": "stdout",
     "output_type": "stream",
     "text": [
      "********** Read instance Example.txt ****************\n",
      "Number of machines is: 3\n",
      "Number of jobs is: 5\n",
      "Machine capacities are: [28, 26, 18]. This is a 1xm array.\n",
      "Assignment costs are: [9 19 4 29 9; 1 24 14 4 24; 24 1 34 4 14]. This is an mxn array.\n",
      "Processing times are: [11 7 22 9 15; 12 16 20 10 10; 9 20 7 23 5]. This is an mxn array.\n"
     ]
    }
   ],
   "source": [
    "global D = read_data(\"Example.txt\")\n",
    "println(\"Number of machines is: $(D.m)\")\n",
    "println(\"Number of jobs is: $(D.n)\")\n",
    "println(\"Machine capacities are: $(D.Tmax). This is a 1xm array.\")\n",
    "println(\"Assignment costs are: $(D.c). This is an mxn array.\")\n",
    "println(\"Processing times are: $(D.t). This is an mxn array.\")"
   ]
  },
  {
   "cell_type": "markdown",
   "metadata": {},
   "source": [
    "## Exercise 2\n",
    "Implement and solve an integer programming model for GAP:\n",
    "\\begin{align*}\n",
    "\\min\\;\\;\\; &\\sum_{i\\in N}\\sum_{j\\in M} p_{ij} x_{ij}\\\\\n",
    "\\mbox{s.t.}\\;\\;\\; \t&\\sum_{j\\in M} x_{ij}=1 &\\forall i\\in N\\\\\n",
    "&\\sum_{i\\in N} t_{ij}x_{ij} \\leq t^{\\rm max}_{j} &\\forall j\\in M\\\\\n",
    "&x\\in \\{0,1\\}^{N\\times M}.\n",
    "\\end{align*}\n",
    "\n",
    "To do so, open the file MIP.ipynb and complete the function solve_MIP. Once it is complete, you can test your function by calling it (don't forget to activate @nbinclude(\"MIP.ipynb\") above).    "
   ]
  },
  {
   "cell_type": "code",
   "execution_count": 82,
   "metadata": {},
   "outputs": [
    {
     "name": "stdout",
     "output_type": "stream",
     "text": [
      "Welcome to the CBC MILP Solver \n",
      "Version: 2.10.3 \n",
      "Build Date: Jan  1 1970 \n",
      "\n",
      "command line - Cbc_C_Interface -solve -quit (default strategy 1)\n",
      "Continuous objective value is 26.6 - 0.00 seconds\n",
      "Cgl0003I 0 fixed, 0 tightened bounds, 2 strengthened rows, 0 substitutions\n",
      "Cgl0003I 0 fixed, 0 tightened bounds, 3 strengthened rows, 0 substitutions\n",
      "Cgl0003I 0 fixed, 0 tightened bounds, 1 strengthened rows, 0 substitutions\n",
      "Cgl0003I 0 fixed, 0 tightened bounds, 1 strengthened rows, 0 substitutions\n",
      "Cgl0004I processed model has 6 rows, 11 columns (11 integer (11 of which binary)) and 27 elements\n",
      "Cbc0012I Integer solution of 85 found by DiveCoefficient after 0 iterations and 0 nodes (0.12 seconds)\n",
      "Cbc0038I Full problem 6 rows 11 columns, reduced to 1 rows 2 columns\n",
      "Cbc0012I Integer solution of 72 found by RINS after 0 iterations and 0 nodes (0.19 seconds)\n",
      "Cbc0012I Integer solution of 67 found by DiveCoefficient after 4 iterations and 0 nodes (0.23 seconds)\n",
      "Cbc0031I 3 added rows had average density of 3.3333333\n",
      "Cbc0013I At root node, 3 cuts changed objective from 48.875 to 67 in 2 passes\n",
      "Cbc0014I Cut generator 0 (Probing) - 43 row cuts average 2.6 elements, 2 column cuts (2 active)  in 0.001 seconds - new frequency is 1\n",
      "Cbc0014I Cut generator 1 (Gomory) - 2 row cuts average 3.0 elements, 0 column cuts (0 active)  in 0.013 seconds - new frequency is 1\n",
      "Cbc0014I Cut generator 2 (Knapsack) - 1 row cuts average 2.0 elements, 0 column cuts (0 active)  in 0.005 seconds - new frequency is 1\n",
      "Cbc0014I Cut generator 3 (Clique) - 0 row cuts average 0.0 elements, 0 column cuts (0 active)  in 0.014 seconds - new frequency is -100\n",
      "Cbc0014I Cut generator 4 (MixedIntegerRounding2) - 1 row cuts average 5.0 elements, 0 column cuts (0 active)  in 0.001 seconds - new frequency is 1\n",
      "Cbc0014I Cut generator 5 (FlowCover) - 0 row cuts average 0.0 elements, 0 column cuts (0 active)  in 0.000 seconds - new frequency is -100\n",
      "Cbc0014I Cut generator 6 (TwoMirCuts) - 6 row cuts average 2.2 elements, 0 column cuts (0 active)  in 0.001 seconds - new frequency is 1\n",
      "Cbc0014I Cut generator 7 (ZeroHalf) - 1 row cuts average 6.0 elements, 0 column cuts (0 active)  in 0.000 seconds - new frequency is -100\n",
      "Cbc0001I Search completed - best objective 67, took 4 iterations and 0 nodes (0.23 seconds)\n",
      "Cbc0035I Maximum depth 0, 1 variables fixed on reduced cost\n",
      "Cuts at root node changed objective from 46.5879 to 67\n",
      "Probing was tried 2 times and created 45 cuts of which 0 were active after adding rounds of cuts (0.001 seconds)\n",
      "Gomory was tried 2 times and created 2 cuts of which 0 were active after adding rounds of cuts (0.013 seconds)\n",
      "Knapsack was tried 2 times and created 1 cuts of which 0 were active after adding rounds of cuts (0.005 seconds)\n",
      "Clique was tried 2 times and created 0 cuts of which 0 were active after adding rounds of cuts (0.014 seconds)\n",
      "MixedIntegerRounding2 was tried 2 times and created 1 cuts of which 0 were active after adding rounds of cuts (0.001 seconds)\n",
      "FlowCover was tried 2 times and created 0 cuts of which 0 were active after adding rounds of cuts (0.000 seconds)\n",
      "TwoMirCuts was tried 2 times and created 6 cuts of which 0 were active after adding rounds of cuts (0.001 seconds)\n",
      "ZeroHalf was tried 1 times and created 1 cuts of which 0 were active after adding rounds of cuts (0.000 seconds)\n",
      "\n",
      "Result - Optimal solution found\n",
      "\n",
      "Objective value:                67.00000000\n",
      "Enumerated nodes:               0\n",
      "Total iterations:               4\n",
      "Time (CPU seconds):             0.23\n",
      "Time (Wallclock seconds):       0.23\n",
      "\n",
      "Total time (CPU seconds):       0.23   (Wallclock seconds):       0.23\n",
      "\n"
     ]
    },
    {
     "data": {
      "text/plain": [
       "(value = (67.0, [0.0 1.0 … 0.0 1.0; 1.0 0.0 … 1.0 0.0; 0.0 0.0 … 0.0 0.0]), time = 0.28372, bytes = 4088475, gctime = 0.0, gcstats = Base.GC_Diff(4088475, 0, 0, 75753, 17, 0, 0, 0, 0))"
      ]
     },
     "execution_count": 82,
     "metadata": {},
     "output_type": "execute_result"
    }
   ],
   "source": [
    "result = @timed solve_MIP()"
   ]
  },
  {
   "cell_type": "code",
   "execution_count": 79,
   "metadata": {},
   "outputs": [
    {
     "data": {
      "text/plain": [
       "3×5 Array{Float64,2}:\n",
       " 0.0  0.0  1.0  0.0  0.0\n",
       " 1.0  0.0  0.0  0.0  0.0\n",
       " 0.0  0.0  0.0  0.0  1.0"
      ]
     },
     "execution_count": 79,
     "metadata": {},
     "output_type": "execute_result"
    }
   ],
   "source": [
    "result.value[2]"
   ]
  },
  {
   "cell_type": "markdown",
   "metadata": {},
   "source": [
    "## Exercise 3\n",
    "\n",
    "We will now begin implementing the branch-and-price algorithm for GAP. To do so, we first need to implement the column generation algorithm for the root node of the branching tree. \n",
    "\n",
    "- Open first branch_and_price.ipynb. The function solve_BP() will pilot the branch_and_price algorithm.\n",
    "- Familiarize yourself with the data structure used to store the columns.\n",
    "- Note that an artificial pattern as well as an empty pattern is added to the column pool of each machine.\n",
    "- A list of nodes to process is created and initialized with the root node.\n",
    "- We will initially focus on the function Process_Node() that will perform the column generation algorithm for each node. \n",
    "\n",
    "\n",
    "\n",
    "1. Open node.ipynb and master.ipynb. Complete the function node_master(), ignore the function calculate_columns() for the moment. This function builds the restricted master LP given as:\n",
    "\\begin{align*}\n",
    "\\min\\;\\;\\; &\\sum_{j\\in M}\\sum_{k\\in K_{j}} \\bar{p}^{k}_{j} \\alpha^{k}_{j}\\\\\n",
    "\\mbox{s.t.}\\;\\;\\; \t&\\sum_{j\\in M}\\sum_{k\\in K_{j}} \\bar{x}^{k}_{ij}\\alpha^{k}_{j}=1 &\\forall i\\in N\\\\\n",
    "&\\sum_{k\\in K_{j}} \\alpha^{k}_{j}=1&\\forall j\\in M\\\\\n",
    "&\\alpha_{j}\\in [0,1]^{|K_{j}|}&\\forall j\\in M.\n",
    "\\end{align*}\n",
    "where $K_{j}$ represents the initial set of columns for machine $j$, $\\bar{p}^{k}_{j}$ is the cost of column $k$ on machine $j$, and $\\bar{x}$ is a vector of assignment of tasks to machine $j$ (a pattern vector).\n",
    "\n",
    "2. Open subproblem.ipynb. Complete the function machine_subproblem() with the appropriate objective function. We will not be concerned with the branching constraints for the moment.\n",
    "\n",
    "3. Open node.ipynb. Complete the nodeub, nodelb and reduced cost values in the function Process_Node(). \n",
    "\n",
    "4. Open node.ipynb. Complete the part # ADD COLUMN TO MODEL in the function Process_Node().\n",
    "\n",
    "5. Open node.ipynb. Complete the function calculate_xsol().\n",
    "\n",
    "You may now test your column generation algorithm at the root node by calling the function solve_BP() (don't forget to activate @nbinclude(branch_and_price.ipynb),@nbinclude(\"node.ipynb\"),@nbinclude(\"master.ipynb\"),@nbinclude(\"subproblem.ipynb\") above)."
   ]
  },
  {
   "cell_type": "code",
   "execution_count": null,
   "metadata": {},
   "outputs": [],
   "source": [
    "result= @timed solve_BP()"
   ]
  },
  {
   "cell_type": "markdown",
   "metadata": {},
   "source": [
    "## Exercise 4\n",
    "\n",
    "We will now focus on the necessary modifications to extend the column generation algorithm applied at the root node to any node of the branch-and-bound tree. To do so:\n",
    "\n",
    "1. Open branch_and_price.ipynb. Complete the function calculate_branching().\n",
    "\n",
    "2. Open node.ipynb. Complete the function calculate_columns() to filter out the columns that are consistent with the branching constraints of each node.\n",
    "\n",
    "3. Open subproblem.ipynb. Revisit the function machine_subproblem() to incorporate the branching constraints.\n",
    "\n",
    "4. Read the entirety of the function solve_BP(). Pay special attention to how new nodes are added to the tree.\n",
    "\n",
    "You may now test your branch_and_price algorithm by calling the function solve_BP()."
   ]
  },
  {
   "cell_type": "code",
   "execution_count": null,
   "metadata": {},
   "outputs": [],
   "source": [
    "result= @timed solve_BP()"
   ]
  }
 ],
 "metadata": {
  "kernelspec": {
   "display_name": "Julia 1.5.3",
   "language": "julia",
   "name": "julia-1.5"
  },
  "language_info": {
   "file_extension": ".jl",
   "mimetype": "application/julia",
   "name": "julia",
   "version": "1.5.3"
  }
 },
 "nbformat": 4,
 "nbformat_minor": 2
}
