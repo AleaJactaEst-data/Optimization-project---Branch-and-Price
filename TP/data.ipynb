{
 "cells": [
  {
   "cell_type": "code",
   "execution_count": 1,
   "metadata": {},
   "outputs": [
    {
     "data": {
      "text/plain": [
       "read_data (generic function with 1 method)"
      ]
     },
     "execution_count": 1,
     "metadata": {},
     "output_type": "execute_result"
    }
   ],
   "source": [
    "function read_data(instance::AbstractString)\n",
    "  data = Data()\n",
    "  file = readdlm(string(dirname(@__FILE__),\"/../data/\",instance))\n",
    "  println(\"********** Read instance $instance ****************\")\n",
    "  data.m = file[2,1]\n",
    "  data.n = file[4,1]\n",
    "  data.t = file[6:(6+data.m-1),1:data.n]\n",
    "  data.Tmax = file[6+data.m+1,1:data.m]\n",
    "  data.c = file[6+data.m+3:(6+data.m+3+data.m-1),1:data.n]\n",
    "\n",
    "  return data\n",
    "end"
   ]
  },
  {
   "cell_type": "code",
   "execution_count": null,
   "metadata": {},
   "outputs": [],
   "source": []
  }
 ],
 "metadata": {
  "kernelspec": {
   "display_name": "Julia 1.4.1",
   "language": "julia",
   "name": "julia-1.4"
  },
  "language_info": {
   "file_extension": ".jl",
   "mimetype": "application/julia",
   "name": "julia",
   "version": "1.4.1"
  }
 },
 "nbformat": 4,
 "nbformat_minor": 2
}
