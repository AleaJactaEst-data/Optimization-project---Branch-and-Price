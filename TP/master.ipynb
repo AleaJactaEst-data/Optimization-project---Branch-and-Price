{
 "cells": [
  {
   "cell_type": "code",
   "execution_count": 1,
   "metadata": {},
   "outputs": [
    {
     "ename": "LoadError",
     "evalue": "UndefVarError: @variable not defined",
     "output_type": "error",
     "traceback": [
      "UndefVarError: @variable not defined",
      ""
     ]
    }
   ],
   "source": [
    "function node_master(node_pool)\n",
    "    #master = Model(optimizer_with_attributes(() -> Gurobi.Optimizer(GUROBI_ENV)))\n",
    "    master = Model(optimizer_with_attributes(() -> Cbc.Optimizer(Cbc_ENV)))\n",
    "    set_optimizer_attribute(master, \"OutputFlag\", 0)\n",
    "    \n",
    "    # Define the variables α_mk\n",
    "    # the first index is the machine index\n",
    "    # the second index is the pattern index\n",
    "    alpha = Array{Array{VariableRef,1},1}(undef,D.m)\n",
    "    for m in 1:D.m\n",
    "        alpha[m]=Array{VariableRef,1}(undef,size(node_pool[m],1))\n",
    "    end\n",
    "    for m in 1:D.m\n",
    "        for k in 1:size(node_pool[m],1)\n",
    "            alpha[m][k]=@variable(master,lower_bound=0)\n",
    "            set_name(alpha[m][k], \"alpha_$m,$k\")\n",
    "        end\n",
    "    end\n",
    "    \n",
    "    # Constraint: Every job should be assigned to one machine  \n",
    "    job = @constraint(master,[i in 1:D.n],sum( sum(node_pool[m][k][i+1] * alpha[m][k] for k in 1:size(node_pool[m],1)) for m in 1:D.m ) == 1)\n",
    "    \n",
    "    # Constraint: One pattern should be chosen for each machine\n",
    "    machine = @constraint(master,[m in 1:D.m] sum(alpha[m][k] for k in 1:size(node_pool[m],1)) == 1)\n",
    "    \n",
    "    # Objective: Minimize the total cost of selected patterns\n",
    "    @objective(master,Min,sum( sum( node_pool[m][k][1] * alpha[m][k] for m in 1:D.m) for k in 1:size(node_pool[m],1)) )\n",
    "\n",
    "    # Return the constraint and variable references along with the model\n",
    "    return job,machine,alpha,master\n",
    "end"
   ]
  },
  {
   "cell_type": "code",
   "execution_count": null,
   "metadata": {},
   "outputs": [],
   "source": []
  }
 ],
 "metadata": {
  "kernelspec": {
   "display_name": "Julia 1.5.3",
   "language": "julia",
   "name": "julia-1.5"
  },
  "language_info": {
   "file_extension": ".jl",
   "mimetype": "application/julia",
   "name": "julia",
   "version": "1.5.3"
  }
 },
 "nbformat": 4,
 "nbformat_minor": 2
}
