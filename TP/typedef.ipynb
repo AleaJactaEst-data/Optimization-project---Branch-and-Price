{
 "cells": [
  {
   "cell_type": "code",
   "execution_count": 1,
   "metadata": {},
   "outputs": [],
   "source": [
    "mutable struct Data\n",
    "  m::Int                  #number of machines\n",
    "  n::Int                  #number of jobs\n",
    "  Tmax::Vector{Int}       #vector of machine capacities with Tmax[m] the capacity of machine m\n",
    "  c::Array{Int}           #matrix of assignment costs with c[m,n] the cost of assigning job n to machine m\n",
    "  t::Array{Int}           #matrix of processing times with t[m,n] the cost of assigning job n to machine m\n",
    "\n",
    "  Data() = new()\n",
    "end"
   ]
  },
  {
   "cell_type": "code",
   "execution_count": 2,
   "metadata": {},
   "outputs": [],
   "source": [
    "mutable struct TreeNode\n",
    "  parent::Int             #tree index of the parent of the node\n",
    "  children::Vector{Int}   #tree indices of the children of the node\n",
    "  lb::Float32             #node lower bound\n",
    "  setzero::Array{Tuple}   #list of indices of branching variables set to zero\n",
    "  setone::Array{Tuple}    #list of indices of branching variables set to one\n",
    "end"
   ]
  },
  {
   "cell_type": "code",
   "execution_count": null,
   "metadata": {},
   "outputs": [],
   "source": []
  }
 ],
 "metadata": {
  "kernelspec": {
   "display_name": "Julia 1.5.3",
   "language": "julia",
   "name": "julia-1.5"
  },
  "language_info": {
   "file_extension": ".jl",
   "mimetype": "application/julia",
   "name": "julia",
   "version": "1.5.3"
  }
 },
 "nbformat": 4,
 "nbformat_minor": 2
}
