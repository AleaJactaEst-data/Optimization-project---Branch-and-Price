{
 "cells": [
  {
   "cell_type": "code",
   "execution_count": 1,
   "metadata": {},
   "outputs": [],
   "source": [
    "# Definition d'un noeud dans l'arbre du branch and price\n",
    "mutable struct TreeNode\n",
    "  parent::Int             #tree index of the parent of the node\n",
    "  children::Vector{Int}   #tree indices of the children of the node\n",
    "  lb::Float32             #node lower bound\n",
    "  setzero::Array{Tuple}   #list of indices of branching variables set to zero\n",
    "  setone::Array{Tuple}    #list of indices of branching variables set to one\n",
    "end"
   ]
  }
 ],
 "metadata": {
  "kernelspec": {
   "display_name": "Julia 1.5.3",
   "language": "julia",
   "name": "julia-1.5"
  },
  "language_info": {
   "file_extension": ".jl",
   "mimetype": "application/julia",
   "name": "julia",
   "version": "1.5.3"
  }
 },
 "nbformat": 4,
 "nbformat_minor": 4
}
