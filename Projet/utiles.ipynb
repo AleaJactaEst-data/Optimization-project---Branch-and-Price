{
 "cells": [
  {
   "cell_type": "markdown",
   "metadata": {},
   "source": [
    "Fonctions utiles intervenant à plusieurs endroits dans nos projets"
   ]
  },
  {
   "cell_type": "code",
   "execution_count": 2,
   "metadata": {},
   "outputs": [
    {
     "data": {
      "text/plain": [
       "degreInt (generic function with 1 method)"
      ]
     },
     "execution_count": 2,
     "metadata": {},
     "output_type": "execute_result"
    }
   ],
   "source": [
    "# Pour chaque paire, on va récupérer les arcs dont ils sont l'origine (calcul du demi-degré extérieur des sommets du graphe)\n",
    "function degreExt(kep)\n",
    "    origine = Array{Array{Int64,1},1}()\n",
    "    for v in 1:nv(kep)\n",
    "        # On recupère les indices des arcs dont l'origine est v\n",
    "        origin_v = Array{Int64,1}()\n",
    "        for (ind,arc) in enumerate(edges(kep))\n",
    "            if src(arc) == v\n",
    "                push!(origin_v,ind)\n",
    "            end\n",
    "        end\n",
    "        push!(origine,origin_v)\n",
    "    end\n",
    "    return origine\n",
    "end\n",
    "\n",
    "# Pour chaque paire, on va récupérer les arcs dont ils sont la destination (calcul du demi-degré intérieur des sommets)\n",
    "function degreInt(kep)\n",
    "    dest = Array{Array{Int64,1},1}()\n",
    "    for v in 1:nv(kep)\n",
    "        # On recupère les indices des arcs dont l'origine est v\n",
    "        dest_v = Array{Int64,1}()\n",
    "        for (ind,arc) in enumerate(edges(kep))\n",
    "            if dst(arc) == v\n",
    "                push!(dest_v,ind)\n",
    "            end\n",
    "        end\n",
    "        push!(dest,dest_v)\n",
    "    end\n",
    "    return dest\n",
    "end"
   ]
  },
  {
   "cell_type": "code",
   "execution_count": 3,
   "metadata": {},
   "outputs": [
    {
     "data": {
      "text/plain": [
       "get_cycles (generic function with 1 method)"
      ]
     },
     "execution_count": 3,
     "metadata": {},
     "output_type": "execute_result"
    }
   ],
   "source": [
    "# Cette fonction sert a determiner dans un graphe tous les cycles de longueur inferieure ou egale a L\n",
    "# on peut aussi utiliser \"filter(x->length(x)<=L,simplecycles_hawick_james(pool))\" mais \n",
    "# procedure plus lente\n",
    "function get_cycles(pool, L)\n",
    "    paires = 1:nv(pool)\n",
    "    cycles = Array{Array{Int,1},1}()\n",
    "    ens_arcs = collect(edges(pool))\n",
    "    function rec_enum(p,c,L)\n",
    "        for arc in origine[p]\n",
    "            q = dst(ens_arcs[arc])\n",
    "            if  q == c[1]\n",
    "                push!(cycles,c)\n",
    "            elseif q <= c[1]\n",
    "                continue\n",
    "            elseif q in c\n",
    "                continue\n",
    "            elseif size(c,1)<=L-1\n",
    "                cc = copy(c)\n",
    "                push!(cc,q)\n",
    "                rec_enum(q,cc,L)\n",
    "            end\n",
    "        end\n",
    "    end\n",
    "    \n",
    "    for p in paires\n",
    "        if(!isempty(origine[p]))\n",
    "            c = [p]\n",
    "            rec_enum(p,copy(c),L)\n",
    "        end\n",
    "    end\n",
    "    \n",
    "    # renvoie les cycles et les sommets qui le composent\n",
    "    return cycles\n",
    "end"
   ]
  },
  {
   "cell_type": "code",
   "execution_count": 4,
   "metadata": {},
   "outputs": [
    {
     "data": {
      "text/plain": [
       "get_cycles_arcs (generic function with 1 method)"
      ]
     },
     "execution_count": 4,
     "metadata": {},
     "output_type": "execute_result"
    }
   ],
   "source": [
    "# Utilise la sortie de get_cycles (sommets qui composent les cycles)\n",
    "# et la transforme en une sortie qui considère les numéros des arcs composant le cycle\n",
    "function get_cycles_arcs(cycles_paires)\n",
    "    ens_arcs = collect(edges(pool))\n",
    "    cycles_arcs = Array{Array{Int,1},1}()\n",
    "    for cycles in cycles_paires\n",
    "        c = []\n",
    "        ind = 1\n",
    "        org = cycles[1]\n",
    "        while(ind < size(cycles,1))\n",
    "            for arc in origine[org]\n",
    "                if ind < size(cycles,1)\n",
    "                    if dst(ens_arcs[arc]) == cycles[ind+1]\n",
    "                        push!(c,arc)\n",
    "                        org = cycles[ind+1]\n",
    "                        ind = ind+1\n",
    "                        break\n",
    "                    end\n",
    "                end\n",
    "            end\n",
    "        end\n",
    "        if ind == size(cycles,1)\n",
    "            org1 = cycles[ind]\n",
    "            for arc in origine[org1]\n",
    "                if dst(ens_arcs[arc])==cycles[1]\n",
    "                    push!(c,arc)\n",
    "                end\n",
    "            end\n",
    "        end\n",
    "        push!(cycles_arcs,c)\n",
    "    end\n",
    "    return cycles_arcs\n",
    "end"
   ]
  },
  {
   "cell_type": "code",
   "execution_count": 5,
   "metadata": {},
   "outputs": [
    {
     "ename": "LoadError",
     "evalue": "UndefVarError: pool not defined",
     "output_type": "error",
     "traceback": [
      "UndefVarError: pool not defined",
      "",
      "Stacktrace:",
      " [1] top-level scope at In[5]:2",
      " [2] include_string(::Function, ::Module, ::String, ::String) at .\\loading.jl:1091"
     ]
    }
   ],
   "source": [
    "# Utilisation des fonctions degreExt et degreInt\n",
    "origine = degreExt(pool); # pour chaque sommet, numero des arcs dont ils sont a l'origine\n",
    "dest = degreInt(pool); # pour chaque sommet numero des arcs dont ils sont la destination"
   ]
  },
  {
   "cell_type": "code",
   "execution_count": null,
   "metadata": {},
   "outputs": [],
   "source": []
  }
 ],
 "metadata": {
  "kernelspec": {
   "display_name": "Julia 1.5.3",
   "language": "julia",
   "name": "julia-1.5"
  },
  "language_info": {
   "file_extension": ".jl",
   "mimetype": "application/julia",
   "name": "julia",
   "version": "1.5.3"
  }
 },
 "nbformat": 4,
 "nbformat_minor": 4
}
