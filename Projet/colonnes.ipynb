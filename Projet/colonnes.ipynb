{
 "cells": [
  {
   "cell_type": "markdown",
   "metadata": {},
   "source": [
    "Fonction qui retourne quelles colonnes vont faire partie du master dans un noeud"
   ]
  },
  {
   "cell_type": "code",
   "execution_count": null,
   "metadata": {},
   "outputs": [],
   "source": [
    "function calculate_columns(noeud)\n",
    "    noeud_col=Array{Array{Int,1},1}() # Ensemble des colonnes d'un noeud\n",
    "    \n",
    "    # On ajoute une colonne artificielle au cas où\n",
    "    push!(noeud_col,vcat(1,ones(Int,ne(pool)+1)))\n",
    "    for c in 2:size(column_pool,1)\n",
    "        add = true\n",
    "        # On ajoute pas une colonne dans le noeud si :\n",
    "        # 1. On a la contrainte de branchement x[i]<=0 et l'arc i est dans la colonne\n",
    "        for arc in tree[noeud].setzero\n",
    "            if column_pool[c][arc+1] == 1\n",
    "                add = false\n",
    "            end\n",
    "        end\n",
    "        # 2. On a la contrainte de branchement x[i]>=1 et l'arc i n'est pas dans la colonne\n",
    "        for arc in tree[noeud].setone\n",
    "            if column_pool[c][arc+1] == 0\n",
    "                add = false\n",
    "            end\n",
    "        end\n",
    "        \n",
    "        if add push!(noeud_col,column_pool[c]) end \n",
    "    end\n",
    "    \n",
    "    return noeud_col\n",
    "        \n",
    "end"
   ]
  },
  {
   "cell_type": "code",
   "execution_count": 1,
   "metadata": {},
   "outputs": [
    {
     "data": {
      "text/plain": [
       "calculate_xsol (generic function with 1 method)"
      ]
     },
     "execution_count": 1,
     "metadata": {},
     "output_type": "execute_result"
    }
   ],
   "source": [
    "# Transforme la solution α en une solution x\n",
    "# où les indices de x correspondent aux arcs\n",
    "function calculate_xsol(mastersol,noeud_col)\n",
    "    x = Array{Float32,1}(undef,ne(pool))\n",
    "    for edge in 1:ne(pool)\n",
    "        x[edge] = sum(noeud_col[c][edge+1]*mastersol[c] for c in 1:size(mastersol,1))\n",
    "    end\n",
    "    #print(\"à quoi ressemble la solution ? \",x,\"\\n\")\n",
    "    return x\n",
    "end"
   ]
  }
 ],
 "metadata": {
  "kernelspec": {
   "display_name": "Julia 1.5.3",
   "language": "julia",
   "name": "julia-1.5"
  },
  "language_info": {
   "file_extension": ".jl",
   "mimetype": "application/julia",
   "name": "julia",
   "version": "1.5.3"
  }
 },
 "nbformat": 4,
 "nbformat_minor": 4
}
