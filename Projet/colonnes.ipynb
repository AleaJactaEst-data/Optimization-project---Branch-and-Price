{
 "cells": [
  {
   "cell_type": "markdown",
   "metadata": {},
   "source": [
    "Fonction qui retourne quelles colonnes vont faire partie du master dans un noeud"
   ]
  },
  {
   "cell_type": "code",
   "execution_count": null,
   "metadata": {},
   "outputs": [],
   "source": [
    "function calculate_columns(noeud)\n",
    "    noeud_col=Array{Array{Int,1},1}() # Ensemble des colonnes d'un noeud\n",
    "    \n",
    "    # On ajoute une colonne artificielle au cas où\n",
    "    push!(noeud_col,vcat(10000,ones(Int,ne(kep)+1)))\n",
    "    for c in 2:size(colonnes,1)\n",
    "        add = true\n",
    "        # On ajoute pas une colonne dans le noeud si :\n",
    "        # 1. On a la contrainte de branchement x[i]<=0 et l'arc i est dans la colonne\n",
    "        for arc in tree[noeud].setzero\n",
    "            if colonnes[c][arc+1] == 1\n",
    "                add = false\n",
    "            end\n",
    "        end\n",
    "        # 2. On a la contrainte de branchement x[i]>=1 et l'arc i n'est pas dans la colonne\n",
    "        for arc in tree[noeud].setone\n",
    "            if colonnes[c][arc+1] == 0\n",
    "                add = false\n",
    "            end\n",
    "        end\n",
    "        \n",
    "        if add push!(noeud_col,colonnes[c]) end \n",
    "    end\n",
    "    \n",
    "    return noeud_col\n",
    "        \n",
    "end"
   ]
  },
  {
   "cell_type": "code",
   "execution_count": null,
   "metadata": {},
   "outputs": [],
   "source": []
  }
 ],
 "metadata": {
  "kernelspec": {
   "display_name": "Julia 1.5.3",
   "language": "julia",
   "name": "julia-1.5"
  },
  "language_info": {
   "file_extension": ".jl",
   "mimetype": "application/julia",
   "name": "julia",
   "version": "1.5.3"
  }
 },
 "nbformat": 4,
 "nbformat_minor": 4
}
