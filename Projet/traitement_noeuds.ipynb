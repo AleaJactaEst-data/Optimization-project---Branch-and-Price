{
 "cells": [
  {
   "cell_type": "markdown",
   "metadata": {},
   "source": [
    "Dans ce fichier, on définit plusieurs fonctions et méthodes relatifs aux traitements d'un noeud de l'arbre du Branch-and-Price.\n",
    "\n",
    "On commence par définir le problème maitre (formulation présentée dans le main) :"
   ]
  },
  {
   "cell_type": "code",
   "execution_count": 42,
   "metadata": {},
   "outputs": [
    {
     "ename": "LoadError",
     "evalue": "LoadError: UndefVarError: @variable not defined\nin expression starting at In[42]:9",
     "output_type": "error",
     "traceback": [
      "LoadError: UndefVarError: @variable not defined\nin expression starting at In[42]:9",
      "",
      "Stacktrace:",
      " [1] top-level scope",
      " [2] include_string(::Function, ::Module, ::String, ::String) at .\\loading.jl:1091"
     ]
    }
   ],
   "source": [
    "function master(noeud)\n",
    "    # Initialisation du probleme maitre\n",
    "    master = Model(GLPK.Optimizer)\n",
    "    \n",
    "    # Definition de la variable z\n",
    "    # L'indice de z correspond a l'indice du cycle\n",
    "    z = Array{VariableRef,1}(undef,size(noeud,1))\n",
    "    for c in 1:size(noeud,1)\n",
    "        z[c] = @variable(master,lower_bound=0,upper_bound=1)\n",
    "        set_name(z[c],\"z_$c\")\n",
    "    end\n",
    "    \n",
    "    # Fonction objective\n",
    "    @objective(master,Max,sum(noeud[c][1]*z[c] for c in 1:size(noeud,1)))\n",
    "    \n",
    "    # Contrainte : Chaque paire participe à au plus un cycle\n",
    "    \n",
    "    # Si une paire est dans un cyle, alors le cycle contient un arc dont la paire est à l'origine\n",
    "    paire = @constraint(master,paire[v in 1:nv(kep)], sum(noeud[c][k+1]*z[c] for c in 1:size(noeud,1), k in origine[v])<=1)\n",
    "    \n",
    "    # On retourne le modèle avec ses variables et contraintes\n",
    "    return paire,z,master\n",
    "end"
   ]
  },
  {
   "cell_type": "markdown",
   "metadata": {},
   "source": [
    "On écrit une fonction qui permet de traiter le sous-problème associé au master."
   ]
  },
  {
   "cell_type": "code",
   "execution_count": null,
   "metadata": {},
   "outputs": [],
   "source": [
    "function subproblem(π,node)\n",
    "    SP=Model(GLPK.Optimizer)\n",
    "    set_optimizer_attribute(SP, \"OutputFlag\", 0)\n",
    "    \n",
    "    # Definition x_a = 1 si l'arc a est dans le cycle retenu, 0 sinon\n",
    "    @variable(SP,x[a in 1:ne(kep)],Bin)\n",
    "    \n",
    "    # Definition de y_i = 1 si paire i dans le cycle retenu, 0 sinon\n",
    "    @variable(SP,y[i in 1:nv(kep)],Bin)\n",
    "    \n",
    "    \n",
    "    for vertice in 1:nv(kep)\n",
    "        # Contraintes : les arcs doivent former un cycle\n",
    "        @constraint(SP,sum(x[a] for a in origine[vertice]) == sum(x[a] for a in dest[vertice]) )\n",
    "        #Contrainte : y_i vaut 1 ssi il y a un arc qui sort de la paire i qui est choisi dans le cycle\n",
    "        @constraint(SP, y[vertice] == sum(x[a] for a in origine[vertice]))\n",
    "    end\n",
    "    \n",
    "    # Contrainte : le cycle doit être de longueur inférieure à L \n",
    "    @constraint(SP, sum(x[a] for a in 1:ne(kep)) <= L) \n",
    "    \n",
    "    # Objectif : minimiser le coût réduit\n",
    "    @objective(SP,Min,sum( weights[a]*x[a] for a in 1:ne(kep) ) - sum(π[i]*y[i] for i in 1:nv(kep) ))\n",
    "    \n",
    "    # Contraintes permettant de refuser ou d'imposer certains arcs dans la solution\n",
    "    for arc in tree[node].setzero\n",
    "        @constraint(SP,x[arc]==0)\n",
    "    end\n",
    "\n",
    "    for arcs in tree[node].setone\n",
    "        @constraint(SP,x[arc]==1)\n",
    "    end\n",
    "\n",
    "    optimize!(SP)\n",
    "\n",
    "    # If the subproblem is solved to optimality then return its objective value\n",
    "    # and the optimal cycle solution\n",
    "    # Else the pricing problem is infeasible return Inf, []\n",
    "    if JuMP.termination_status(SP)==MOI.OPTIMAL\n",
    "        return JuMP.objective_value(SP),JuMP.value.(y)\n",
    "    else\n",
    "        return Inf,[]\n",
    "    end\n",
    "end"
   ]
  }
 ],
 "metadata": {
  "kernelspec": {
   "display_name": "Julia 1.5.3",
   "language": "julia",
   "name": "julia-1.5"
  },
  "language_info": {
   "file_extension": ".jl",
   "mimetype": "application/julia",
   "name": "julia",
   "version": "1.5.3"
  }
 },
 "nbformat": 4,
 "nbformat_minor": 4
}
