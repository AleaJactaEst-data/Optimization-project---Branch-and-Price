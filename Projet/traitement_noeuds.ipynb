{
 "cells": [
  {
   "cell_type": "markdown",
   "metadata": {},
   "source": [
    "Dans ce fichier, on définit plusieurs fonctions et méthodes relatifs aux traitements d'un noeud de l'arbre du Branch-and-Price.\n",
    "\n",
    "On commence par définir le problème maitre (formulation présentée dans le main) :"
   ]
  },
  {
   "cell_type": "code",
   "execution_count": 42,
   "metadata": {},
   "outputs": [
    {
     "ename": "LoadError",
     "evalue": "LoadError: UndefVarError: @variable not defined\nin expression starting at In[42]:9",
     "output_type": "error",
     "traceback": [
      "LoadError: UndefVarError: @variable not defined\nin expression starting at In[42]:9",
      "",
      "Stacktrace:",
      " [1] top-level scope",
      " [2] include_string(::Function, ::Module, ::String, ::String) at .\\loading.jl:1091"
     ]
    }
   ],
   "source": [
    "function master(noeud)\n",
    "    # Initialisation du probleme maitre\n",
    "    master = Model(GLPK.Optimizer)\n",
    "    \n",
    "    # Definition de la variable z\n",
    "    # L'indice de z correspond a l'indice du cycle\n",
    "    z = Array{VariableRef,1}(undef,size(noeud,1))\n",
    "    for c in 1:size(noeud,1)\n",
    "        z[c] = @variable(master,lower_bound=0,upper_bound=1)\n",
    "        set_name(z[c],\"z_$c\")\n",
    "    end\n",
    "    \n",
    "    # Fonction objective\n",
    "    @objective(master,Max,sum(noeud[c][1]*z[c] for c in 1:size(noeud,1)))\n",
    "    \n",
    "    # Contrainte : Chaque paire participe à au plus un cycle\n",
    "    \n",
    "    # Si une paire est dans un cyle, alors le cycle contient un arc dont la paire est à l'origine\n",
    "    paire = @constraint(master,paire[v in 1:nv(kep)], sum(noeud[c][k+1]*z[c] for c in 1:nv(kep), k in origine[v])<=1)\n",
    "    \n",
    "    # On retourne le modèle avec ses variables et contraintes\n",
    "    return paire,z,master\n",
    "end"
   ]
  },
  {
   "cell_type": "code",
   "execution_count": 22,
   "metadata": {},
   "outputs": [
    {
     "ename": "LoadError",
     "evalue": "UndefVarError: paire_1 not defined",
     "output_type": "error",
     "traceback": [
      "UndefVarError: paire_1 not defined",
      "",
      "Stacktrace:",
      " [1] top-level scope at In[22]:3",
      " [2] include_string(::Function, ::Module, ::String, ::String) at .\\loading.jl:1091"
     ]
    }
   ],
   "source": []
  },
  {
   "cell_type": "code",
   "execution_count": null,
   "metadata": {},
   "outputs": [],
   "source": []
  }
 ],
 "metadata": {
  "kernelspec": {
   "display_name": "Julia 1.5.3",
   "language": "julia",
   "name": "julia-1.5"
  },
  "language_info": {
   "file_extension": ".jl",
   "mimetype": "application/julia",
   "name": "julia",
   "version": "1.5.3"
  }
 },
 "nbformat": 4,
 "nbformat_minor": 4
}
