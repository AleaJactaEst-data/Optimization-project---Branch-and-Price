{
 "cells": [
  {
   "cell_type": "code",
   "execution_count": 1,
   "metadata": {},
   "outputs": [],
   "source": [
    "import Pkg\n",
    "Pkg.add(\"Cbc\")\n",
    "Pkg.add(\"JuMP\")"
   ]
  },
  {
   "cell_type": "code",
   "execution_count": 2,
   "metadata": {},
   "outputs": [
    {
     "name": "stdout",
     "output_type": "stream",
     "text": [
      "Academic license - for non-commercial use only - expires 2021-07-03\n"
     ]
    },
    {
     "data": {
      "text/plain": [
       "1.0e-5"
      ]
     },
     "execution_count": 2,
     "metadata": {},
     "output_type": "execute_result"
    }
   ],
   "source": [
    "Pkg.add(\"GLPK\")\n",
    "Pkg.add(\"Gurobi\")\n",
    "Pkg.add(\"IterTools\")\n",
    "using JuMP\n",
    "using Cbc\n",
    "using DelimitedFiles\n",
    "using NBInclude\n",
    "#using GLPK\n",
    "using Gurobi\n",
    "const GUROBI_ENV = Gurobi.Env()\n",
    "const L = 6\n",
    "using IterTools\n",
    "\n",
    "# constante epsilon\n",
    "const ϵ = 0.00001"
   ]
  },
  {
   "cell_type": "code",
   "execution_count": 3,
   "metadata": {},
   "outputs": [
    {
     "name": "stdout",
     "output_type": "stream",
     "text": [
      "Academic license - for non-commercial use only - expires 2021-07-03\n"
     ]
    },
    {
     "name": "stderr",
     "output_type": "stream",
     "text": [
      "WARNING: redefinition of constant GUROBI_ENV. This may fail, cause incorrect answers, or produce other errors.\n"
     ]
    }
   ],
   "source": [
    "@nbinclude(\"dataparser.ipynb\");\n",
    "@nbinclude(\"Euristic.ipynb\");\n",
    "@nbinclude(\"classes.ipynb\");\n",
    "@nbinclude(\"traitement_noeuds.ipynb\");\n",
    "@nbinclude(\"branch_and_price.ipynb\");\n",
    "@nbinclude(\"colonnes.ipynb\");\n",
    "#@nbinclude(\"utiles.ipynb\")"
   ]
  },
  {
   "cell_type": "code",
   "execution_count": 16,
   "metadata": {},
   "outputs": [
    {
     "data": {
      "text/plain": [
       "getPath_L (generic function with 1 method)"
      ]
     },
     "execution_count": 16,
     "metadata": {},
     "output_type": "execute_result"
    }
   ],
   "source": [
    "# Pour chaque paire, on va récupérer les arcs dont ils sont l'origine (calcul du demi-degré extérieur des sommets du graphe)\n",
    "function degreExt(kep)\n",
    "    origine = Array{Array{Int64,1},1}()\n",
    "    for v in 1:nv(kep)\n",
    "        # On recupère les indices des arcs dont l'origine est v\n",
    "        origin_v = Array{Int64,1}()\n",
    "        for (ind,arc) in enumerate(edges(kep))\n",
    "            if src(arc) == v\n",
    "                push!(origin_v,ind)\n",
    "            end\n",
    "        end\n",
    "        push!(origine,origin_v)\n",
    "    end\n",
    "    return origine\n",
    "end\n",
    "\n",
    "# Pour chaque paire, on va récupérer les arcs dont ils sont la destination (calcul du demi-degré intérieur des sommets)\n",
    "function degreInt(kep)\n",
    "    dest = Array{Array{Int64,1},1}()\n",
    "    for v in 1:nv(kep)\n",
    "        # On recupère les indices des arcs dont l'origine est v\n",
    "        dest_v = Array{Int64,1}()\n",
    "        for (ind,arc) in enumerate(edges(kep))\n",
    "            if dst(arc) == v\n",
    "                push!(dest_v,ind)\n",
    "            end\n",
    "        end\n",
    "        push!(dest,dest_v)\n",
    "    end\n",
    "    return dest\n",
    "end\n",
    "\n",
    "\n",
    "# Recuperation des arcs\n",
    "function getEdge(kep)\n",
    "    edge_list = Array{Array{Int64,1},1}()\n",
    "    w = zeros(Int8, nv(kep), nv(kep))\n",
    "    for (ind,arc) in enumerate(edges(kep))\n",
    "            push!(edge_list,[src(arc), dst(arc)])\n",
    "        w[src(arc), dst(arc)] = weights[ind]\n",
    "    end\n",
    "    return edge_list, w\n",
    "end\n",
    "\n",
    "getEdge(pool)\n",
    "\n",
    "#Recuperation de tous les chemins de longueur L+1\n",
    "function getPath_L(pool)\n",
    "    all_path = simplecycles_hawick_james(pool) #Recuperation de tous les chemins du graphe\n",
    "    path_L=[]\n",
    "    L=6\n",
    "    for i in all_path #Recuperation des chemins de longueur L+1 dans path_L\n",
    "        if length(i) == L+1\n",
    "            push!(path_L, i)\n",
    "        end\n",
    "    end\n",
    "    return path_L\n",
    "end"
   ]
  },
  {
   "cell_type": "code",
   "execution_count": 17,
   "metadata": {},
   "outputs": [],
   "source": [
    "function edgeformulation(pool)    \n",
    "    # Le probleme\n",
    "\n",
    "    model=Model(optimizer_with_attributes(() -> Gurobi.Optimizer(GUROBI_ENV)))\n",
    "    set_optimizer_attribute(model, \"OutputFlag\", 0) #???? parametre a modifier\n",
    "\n",
    "    # Les donnees\n",
    "    path_L = getPath_L(pool)\n",
    "    #Ensemble des arcs sous la forme [i,j]\n",
    "    edge_list, w = getEdge(pool); #Penser a ajouter la fonction PROBLEME_SANS_REFORMULATION\n",
    "\n",
    "    #Nombre de sommets\n",
    "    E = ne(pool)\n",
    "    V = nv(pool)\n",
    "\n",
    "    #Les variables\n",
    "    @variable(model, x[i in 1:V, j in 1:V], Bin)\n",
    "\n",
    "    #La fonction objective\n",
    "    @objective(model, Max, sum(sum(w[i,j] * x[i,j] for i in 1:V) for j in 1:V))\n",
    "\n",
    "    #Les contraintes\n",
    "    for i in 1:V\n",
    "        for j in 1:V\n",
    "            if !([i,j] in edge_list)\n",
    "                @constraint(model, x[i,j]==0)\n",
    "            end\n",
    "        end\n",
    "    end\n",
    "\n",
    "    #Premiere contrainte\n",
    "    for i in 1:V\n",
    "        E_1 = [] #Ensemble des arcs ou i est le depart\n",
    "        E_2 = [] #Ensemble des arcs ou i est l arrivee\n",
    "        #Recuperer les arcs ou il y a i en extremite\n",
    "        for e in edge_list\n",
    "            if e[1] == i\n",
    "                push!(E_1, e[2])\n",
    "            end\n",
    "            if e[2] == i\n",
    "                push!(E_2, e[1])\n",
    "            end\n",
    "        end\n",
    "        #La contrainte sur le sommet i\n",
    "        @constraint(model, sum(x[e, i] for e in E_2) == sum(x[i, e] for e in E_1) )\n",
    "    end\n",
    "\n",
    "    #Deuxieme contrainte\n",
    "    for i in 1:V\n",
    "        E_i = [] #Ensemble des arcs ou i est l arrivee\n",
    "        #Recuperer les arcs ou il y a i en extremite\n",
    "        for e in edge_list\n",
    "            if e[1] == i\n",
    "                push!(E_i, e[2])\n",
    "            end\n",
    "        end\n",
    "        #La contrainte sur le sommet i\n",
    "        @constraint(model, sum(x[i, e] for e in E_i) <= 1)\n",
    "    end\n",
    "\n",
    "    #Troisieme contrainte\n",
    "    for p in path_L #Pour tous les chemins de longueur L+1\n",
    "        @constraint(model, sum(x[p[j], p[j+1]] for j in 1:L) <= L-1)\n",
    "    end\n",
    "    \n",
    "    #Résolution du problème\n",
    "    optimize!(model)\n",
    "    \n",
    "    #Recuperation solution\n",
    "    x_value = JuMP.value.(x)\n",
    "    solu_x = []\n",
    "    for i = 1:V\n",
    "        for j = 1:V\n",
    "            if(x_value[i,j]==1)\n",
    "                push!(solu_x, [i,j])\n",
    "            end\n",
    "        end\n",
    "    end\n",
    "    \n",
    "    return(objective_value(model),solu_x)\n",
    "end"
   ]
  },
  {
   "cell_type": "code",
   "execution_count": 18,
   "metadata": {},
   "outputs": [],
   "source": [
    "#Résolution du problème\n",
    "optimize!(model)"
   ]
  },
  {
   "cell_type": "code",
   "execution_count": 19,
   "metadata": {},
   "outputs": [
    {
     "data": {
      "text/plain": [
       "18.0"
      ]
     },
     "execution_count": 19,
     "metadata": {},
     "output_type": "execute_result"
    }
   ],
   "source": [
    "#Valeur objective du modèle\n",
    "objective_value(model)"
   ]
  },
  {
   "cell_type": "code",
   "execution_count": 20,
   "metadata": {},
   "outputs": [
    {
     "data": {
      "text/plain": [
       "18-element Vector{Any}:\n",
       " [1, 4]\n",
       " [2, 1]\n",
       " [4, 11]\n",
       " [6, 13]\n",
       " [7, 22]\n",
       " [8, 20]\n",
       " [9, 16]\n",
       " [11, 29]\n",
       " [13, 6]\n",
       " [14, 27]\n",
       " [16, 9]\n",
       " [17, 8]\n",
       " [20, 26]\n",
       " [22, 7]\n",
       " [26, 17]\n",
       " [27, 28]\n",
       " [28, 14]\n",
       " [29, 2]"
      ]
     },
     "execution_count": 20,
     "metadata": {},
     "output_type": "execute_result"
    }
   ],
   "source": [
    "#Affichage solution\n",
    "x_value = JuMP.value.(x)\n",
    "solu_x = []\n",
    "for i = 1:V\n",
    "    for j = 1:V\n",
    "        if(x_value[i,j]==1)\n",
    "            push!(solu_x, [i,j])\n",
    "        end\n",
    "    end\n",
    "end\n",
    "solu_x"
   ]
  }
 ],
 "metadata": {
  "kernelspec": {
   "display_name": "Julia 1.5.3",
   "language": "julia",
   "name": "julia-1.5"
  },
  "language_info": {
   "file_extension": ".jl",
   "mimetype": "application/julia",
   "name": "julia",
   "version": "1.5.3"
  }
 },
 "nbformat": 4,
 "nbformat_minor": 4
}
