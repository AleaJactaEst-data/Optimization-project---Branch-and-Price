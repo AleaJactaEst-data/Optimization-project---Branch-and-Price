{
 "cells": [
  {
   "cell_type": "code",
   "execution_count": 1,
   "metadata": {},
   "outputs": [
    {
     "name": "stderr",
     "output_type": "stream",
     "text": [
      "\u001b[32m\u001b[1m   Updating\u001b[22m\u001b[39m registry at `C:\\Users\\aebou\\.julia\\registries\\General`\n",
      "\u001b[32m\u001b[1m  Resolving\u001b[22m\u001b[39m package versions...\n",
      "\u001b[32m\u001b[1mNo Changes\u001b[22m\u001b[39m to `C:\\Users\\aebou\\.julia\\environments\\v1.5\\Project.toml`\n",
      "\u001b[32m\u001b[1mNo Changes\u001b[22m\u001b[39m to `C:\\Users\\aebou\\.julia\\environments\\v1.5\\Manifest.toml`\n",
      "\u001b[32m\u001b[1m  Resolving\u001b[22m\u001b[39m package versions...\n",
      "\u001b[32m\u001b[1mNo Changes\u001b[22m\u001b[39m to `C:\\Users\\aebou\\.julia\\environments\\v1.5\\Project.toml`\n",
      "\u001b[32m\u001b[1mNo Changes\u001b[22m\u001b[39m to `C:\\Users\\aebou\\.julia\\environments\\v1.5\\Manifest.toml`\n"
     ]
    }
   ],
   "source": [
    "import Pkg\n",
    "Pkg.add(\"Cbc\")\n",
    "Pkg.add(\"JuMP\")"
   ]
  },
  {
   "cell_type": "code",
   "execution_count": 2,
   "metadata": {},
   "outputs": [
    {
     "name": "stderr",
     "output_type": "stream",
     "text": [
      "\u001b[32m\u001b[1m  Resolving\u001b[22m\u001b[39m package versions...\n",
      "\u001b[32m\u001b[1mNo Changes\u001b[22m\u001b[39m to `C:\\Users\\aebou\\.julia\\environments\\v1.5\\Project.toml`\n",
      "\u001b[32m\u001b[1mNo Changes\u001b[22m\u001b[39m to `C:\\Users\\aebou\\.julia\\environments\\v1.5\\Manifest.toml`\n"
     ]
    }
   ],
   "source": [
    "Pkg.add(\"GLPK\")"
   ]
  },
  {
   "cell_type": "code",
   "execution_count": 3,
   "metadata": {},
   "outputs": [
    {
     "name": "stderr",
     "output_type": "stream",
     "text": [
      "\u001b[32m\u001b[1m  Resolving\u001b[22m\u001b[39m package versions...\n",
      "\u001b[32m\u001b[1mNo Changes\u001b[22m\u001b[39m to `C:\\Users\\aebou\\.julia\\environments\\v1.5\\Project.toml`\n",
      "\u001b[32m\u001b[1mNo Changes\u001b[22m\u001b[39m to `C:\\Users\\aebou\\.julia\\environments\\v1.5\\Manifest.toml`\n"
     ]
    }
   ],
   "source": [
    "Pkg.add(\"Gurobi\")"
   ]
  },
  {
   "cell_type": "code",
   "execution_count": 1,
   "metadata": {},
   "outputs": [
    {
     "name": "stdout",
     "output_type": "stream",
     "text": [
      "Academic license - for non-commercial use only - expires 2021-06-28\n"
     ]
    },
    {
     "data": {
      "text/plain": [
       "1.0e-5"
      ]
     },
     "execution_count": 1,
     "metadata": {},
     "output_type": "execute_result"
    }
   ],
   "source": [
    "using JuMP\n",
    "using Cbc\n",
    "using DelimitedFiles\n",
    "using NBInclude\n",
    "using GLPK\n",
    "using Gurobi\n",
    "const GUROBI_ENV = Gurobi.Env()\n",
    "const L = 6\n",
    "\n",
    "# constante epsilon\n",
    "const ϵ = 0.00001"
   ]
  },
  {
   "cell_type": "code",
   "execution_count": 2,
   "metadata": {},
   "outputs": [
    {
     "name": "stdout",
     "output_type": "stream",
     "text": [
      "[1 6 11 16 21; 2 7 12 17 22; 3 8 13 18 23; 4 9 14 19 24; 5 10 15 20 25]7"
     ]
    }
   ],
   "source": [
    "test = reshape(1:25, 5, 5)\n",
    "print(test)\n",
    "print(test[2,2])"
   ]
  },
  {
   "cell_type": "markdown",
   "metadata": {},
   "source": [
    "# Projet Programmation Mathématiques Avancée et Applications\n",
    "Hugo Miccinilli, Aboa Bouadou, Florian Jacta, Theo DI PIAZZA | 4GM\n",
    "\n",
    "## Kidney exchange problem\n",
    "\n",
    "### Introduction et formulation du problème\n",
    "\n",
    "On s'intéresse au problème de don croisé de rein.  \n",
    "**Qu'est ce que le don croisé ?**   \n",
    "\"Il arrive assez souvent qu’une personne soit volontaire pour faire don d’un rein à un proche, parent, conjoint ou ami, mais que le don soit impossible en raison d’une incompatibilité tissulaire avec le receveur. On appellera ces deux personnes la paire A. Une situation identique peut se retrouver ailleurs au sein d’une paire B. Il arrive parfois que le donneur de la paire A soit compatible avec le receveur de la paire B, et vice-versa que le donneur de la paire B soit compatible avec le receveur B. Cette situation – peu courante – peut permettre un « don croisé ».\" (source France-adot)  \n",
    "\n",
    "**Représentation mathématique du problème**  \n",
    "Lorsqu'il y a plusieurs paires patient-donneur, l'opération de greffe est plus compliquée à mettre en place. Mathématiquement, on considère un graphe orienté simple $G = (V,A)$ où V représente l'ensemble des couples patient-donneur $(P_i,D_i)$ et A représente les compatibilités entre entre les différentes paires, c'est à dire $(i,j) \\in A$ si le donneur $D_i$ est compatible avec le patient $P_j$. Certains patients sont prioritaires par rapport à d'autres donc on affecte un score $w_{i,j}$ qui caractérise ce fait. Plus le score est elevé, plus le patient impliqué dans l'arc est prioritaire. Ce score peut être vu comme l'utilité d'un arc donné.\n",
    "\n",
    "**Formulation**  \n",
    "Comme indiqué dans l'énoncé, on peut associer des patients et des donneurs de sorte à former un cycle dans G. Pour des raisons opérationnelles (les différents greffes dans un cycle doivent se dérouler en même temps), il ne faut pas qu'un cycle soit trop long. Soit L la longueur maximale qu'on peut avoir dans un cycle choisi et soit $\\mathcal{C}_L$ l'ensemble des cycles de G tels que $|c| \\le L$ pour $c \\in \\mathcal{C}_L$. On définit $\\mathcal{C}_L(i)$ comme l'ensemble des cycles qui contiennent un sommet $i \\in V$ et $w_c = \\sum \\limits_{(i,j) \\in c} w_{i,j}$ pour $c \\in \\mathcal{C}_L$. L'objectif du problème est de choisir l'ensemble des cycles qui permettra de maximiser l'utilité. Certains patients peuvent donc ne pas avoir de donneurs après résolution du problème. \n",
    "\n",
    "Le problème peut ainsi se formuler comme suit :  \n",
    "\n",
    "*Variables*  \n",
    "$\\forall c \\in \\mathcal{C}_L, z_c = \\{0,1\\} = 1$ si le cycle c est choisi, 0 sinon  \n",
    "\n",
    "*Objectif*  \n",
    "$\\sum \\limits_{c \\in \\mathcal{C}_L} w_cz_c$ \n",
    "\n",
    "*Contraintes*  \n",
    "$\\sum \\limits_{c \\in \\mathcal{C}_L(i)} z_c \\le 1, \\forall i \\in V$  \n",
    "$z \\in \\{0,1\\}^{|\\mathcal{C}_L|}$\n",
    "\n",
    "\n",
    "Le problème ayant un très grand nombre de variables, on veut le résoudre en utilisant l'algorithme de branch and price. \n",
    "\n",
    "### Initialisation du problème\n",
    "\n",
    "Avant de coder l'algorithme, on code quelques classes et fonctions qui seront utiles pour initialiser les instances du problème. On explique en détail ces fonctions dans les différents fichiers qu'on a inclut ci-dessous."
   ]
  },
  {
   "cell_type": "code",
   "execution_count": 15,
   "metadata": {},
   "outputs": [
    {
     "name": "stderr",
     "output_type": "stream",
     "text": [
      "\u001b[32m\u001b[1m  Resolving\u001b[22m\u001b[39m package versions...\n",
      "\u001b[32m\u001b[1mNo Changes\u001b[22m\u001b[39m to `C:\\Users\\aebou\\.julia\\environments\\v1.5\\Project.toml`\n",
      "\u001b[32m\u001b[1mNo Changes\u001b[22m\u001b[39m to `C:\\Users\\aebou\\.julia\\environments\\v1.5\\Manifest.toml`\n",
      "\u001b[32m\u001b[1m  Resolving\u001b[22m\u001b[39m package versions...\n",
      "\u001b[32m\u001b[1mNo Changes\u001b[22m\u001b[39m to `C:\\Users\\aebou\\.julia\\environments\\v1.5\\Project.toml`\n",
      "\u001b[32m\u001b[1mNo Changes\u001b[22m\u001b[39m to `C:\\Users\\aebou\\.julia\\environments\\v1.5\\Manifest.toml`\n",
      "\u001b[32m\u001b[1m  Resolving\u001b[22m\u001b[39m package versions...\n",
      "\u001b[32m\u001b[1mNo Changes\u001b[22m\u001b[39m to `C:\\Users\\aebou\\.julia\\environments\\v1.5\\Project.toml`\n",
      "\u001b[32m\u001b[1mNo Changes\u001b[22m\u001b[39m to `C:\\Users\\aebou\\.julia\\environments\\v1.5\\Manifest.toml`\n",
      "\u001b[32m\u001b[1m  Resolving\u001b[22m\u001b[39m package versions...\n",
      "\u001b[32m\u001b[1mNo Changes\u001b[22m\u001b[39m to `C:\\Users\\aebou\\.julia\\environments\\v1.5\\Project.toml`\n",
      "\u001b[32m\u001b[1mNo Changes\u001b[22m\u001b[39m to `C:\\Users\\aebou\\.julia\\environments\\v1.5\\Manifest.toml`\n"
     ]
    }
   ],
   "source": [
    "@nbinclude(\"dataparser.ipynb\");\n",
    "@nbinclude(\"classes.ipynb\");\n",
    "@nbinclude(\"traitement_noeuds.ipynb\");\n",
    "@nbinclude(\"branch_and_price.ipynb\");\n",
    "@nbinclude(\"colonnes.ipynb\");"
   ]
  },
  {
   "cell_type": "code",
   "execution_count": 16,
   "metadata": {},
   "outputs": [
    {
     "data": {
      "text/plain": [
       "degreInt (generic function with 1 method)"
      ]
     },
     "execution_count": 16,
     "metadata": {},
     "output_type": "execute_result"
    }
   ],
   "source": [
    "# Pour chaque paire, on va récupérer les arcs dont ils sont l'origine (calcul du demi-degré extérieur des sommets du graphe)\n",
    "function degreExt(kep)\n",
    "    origine = Array{Array{Int64,1},1}()\n",
    "    for v in 1:nv(kep)\n",
    "        # On recupère les indices des arcs dont l'origine est v\n",
    "        origin_v = Array{Int64,1}()\n",
    "        for (ind,arc) in enumerate(edges(kep))\n",
    "            if src(arc) == v\n",
    "                push!(origin_v,ind)\n",
    "            end\n",
    "        end\n",
    "        push!(origine,origin_v)\n",
    "    end\n",
    "    return origine\n",
    "end\n",
    "\n",
    "# Pour chaque paire, on va récupérer les arcs dont ils sont la destination (calcul du demi-degré intérieur des sommets)\n",
    "function degreInt(kep)\n",
    "    dest = Array{Array{Int64,1},1}()\n",
    "    for v in 1:nv(kep)\n",
    "        # On recupère les indices des arcs dont l'origine est v\n",
    "        dest_v = Array{Int64,1}()\n",
    "        for (ind,arc) in enumerate(edges(kep))\n",
    "            if dst(arc) == v\n",
    "                push!(dest_v,ind)\n",
    "            end\n",
    "        end\n",
    "        push!(dest,dest_v)\n",
    "    end\n",
    "    return dest\n",
    "end\n"
   ]
  },
  {
   "cell_type": "code",
   "execution_count": 17,
   "metadata": {},
   "outputs": [],
   "source": [
    "origine = degreExt(pool);\n",
    "dest = degreInt(pool);"
   ]
  },
  {
   "cell_type": "code",
   "execution_count": 18,
   "metadata": {},
   "outputs": [
    {
     "name": "stdout",
     "output_type": "stream",
     "text": [
      "Current list of nodes to be processed:[1]\n",
      "\u001b[93m Processing node 1 \u001b[00m\n",
      "Variables set to zero are:Int64[]\n",
      "Variables set to one are:Int64[]\n",
      "VALEUR SOLUTION z : [0.1, 0.0]\n",
      "\n",
      "POIDS SOLUTION z : 0.1\n",
      "\n",
      "COUT REDUIT : 4.0\n",
      "\u001b[34m Cycle avec les arcs [8, 39, 43, 45] ajouté \u001b[00m\n",
      "VALEUR SOLUTION z : [0.0, 0.0, 1.0]\n",
      "\n",
      "POIDS SOLUTION z : 4.0\n",
      "\n",
      "\u001b[32m Solution réalisable de valeur 4.0 trouvée \u001b[00m\n",
      "COUT REDUIT : 2.0\n",
      "\u001b[34m Cycle avec les arcs [6, 40] ajouté \u001b[00m\n",
      "VALEUR SOLUTION z : [0.0, 0.0, 1.0, 0.0]\n",
      "\n",
      "POIDS SOLUTION z : 4.0\n",
      "\n",
      "\u001b[32m Solution réalisable de valeur 4.0 trouvée \u001b[00m\n",
      "COUT REDUIT : -0.0\n",
      "Node relaxation is solved to optimality\n",
      "Node upper bound is 4.0\n",
      "Node lower bound is 4.0\n",
      "The optimal relaxation solution was integer\n",
      "Feasible solution with value 4.0 found\n",
      "LB=4.0,UB=4.0\n",
      "Optimality gap small enough"
     ]
    },
    {
     "data": {
      "text/plain": [
       "(value = nothing, time = 0.6544944, bytes = 45634382, gctime = 0.0, gcstats = Base.GC_Diff(45634382, 0, 0, 855544, 263, 0, 0, 0, 0))"
      ]
     },
     "execution_count": 18,
     "metadata": {},
     "output_type": "execute_result"
    }
   ],
   "source": [
    "result = @timed solve_BP()"
   ]
  },
  {
   "cell_type": "code",
   "execution_count": null,
   "metadata": {},
   "outputs": [],
   "source": []
  },
  {
   "cell_type": "markdown",
   "metadata": {},
   "source": [
    "Le sous problème associé au master s'écrit :\n",
    "$$min \\sum \\limits_{a \\in A} w_ax_a - \\sum \\limits_{i \\in V} \\pi_iy_i \\\\ s.l.c \\sum \\limits_{ a \\in \\delta^+(i)} x_a =   \\sum \\limits_{ a \\in \\delta^-(i)} x_a \\text{,  } \\forall i \\in V \\\\ \\sum \\limits_{a \\in A} x_a \\le L \\\\ \\sum \\limits_{ a \\in \\delta^-(i)} x_a = y_i \\text{,  } \\forall i \\in V \\\\ x \\in \\{0,1\\}^{|A|} \\\\ y \\in \\{0,1\\}^{|V|}$$\n",
    "\n",
    "On cherche donc un cycle de longueur maximale égale à L qui minimise le coût réduit.\n",
    "La fonction permettant d'initialiser le sous-problème est écrite dans le fichier *traitement_noeud*"
   ]
  },
  {
   "cell_type": "code",
   "execution_count": 30,
   "metadata": {},
   "outputs": [
    {
     "name": "stdout",
     "output_type": "stream",
     "text": [
      "SOLUTION \n",
      "Valeur optimale: 2.0\n",
      "Cycle: [0.0, 0.0, 0.0, 0.0, 0.0, 1.0, 1.0, 0.0, 0.0, 0.0, 0.0, 0.0, 0.0, 0.0, 0.0, 0.0, 0.0, 0.0, 0.0, 1.0, 0.0, 0.0, 0.0, 0.0, 0.0, 0.0, 0.0, 0.0, 0.0, 0.0, 0.0, 0.0, 0.0, 0.0, 0.0, 0.0, 0.0, 0.0, 0.0, 1.0, 0.0, 0.0, 0.0, 0.0, 0.0, 0.0, 0.0]"
     ]
    }
   ],
   "source": [
    "# Ignore\n",
    "pi = zeros(Int,17)\n",
    "pi[4]=1\n",
    "pi[13]=1\n",
    "pi[14]=1\n",
    "pi[15]=1\n",
    "\n",
    "SP=Model(optimizer_with_attributes(() -> Gurobi.Optimizer(GUROBI_ENV)))\n",
    "set_optimizer_attribute(SP, \"OutputFlag\", 0)\n",
    "    \n",
    "# Definition x_a = 1 si l'arc a est dans le cycle retenu, 0 sinon\n",
    "@variable(SP,x[a in 1:ne(pool)],Bin)\n",
    "    \n",
    "# Definition de y_i = 1 si paire i dans le cycle retenu, 0 sinon\n",
    "@variable(SP,y[i in 1:nv(pool)],Bin)\n",
    "    \n",
    "    \n",
    "for vertice in 1:nv(pool)\n",
    "# Contraintes : les arcs doivent former un cycle\n",
    "    @constraint(SP,sum(x[a] for a in origine[vertice]) == sum(x[a] for a in dest[vertice]) )\n",
    "    #Contrainte : y_i vaut 1 ssi il y a un arc qui sort de la paire i qui est choisi dans le cycle\n",
    "    @constraint(SP, y[vertice] == sum(x[a] for a in origine[vertice]))\n",
    "end\n",
    "    \n",
    "# Contrainte : le cycle doit être de longueur inférieure à L \n",
    "@constraint(SP, sum(x[a] for a in 1:ne(pool)) <= L) \n",
    "\n",
    "# Contrainte : Il y a au moins un cycle, donc au moins deux sommets choisis\n",
    "@constraint(SP, sum(y[v] for v in 1:nv(pool)) >= 1)\n",
    "    \n",
    "# Objectif : minimiser le coût réduit\n",
    "@objective(SP,Max,sum( weights[a]*x[a] for a in 1:ne(pool) ) - sum(pi[i]*y[i] for i in 1:nv(pool) ))\n",
    "    \n",
    "optimize!(SP)\n",
    "\n",
    "# If the subproblem is solved to optimality then return its objective value\n",
    "# and the optimal cycle solution\n",
    "# Else the pricing problem is infeasible return Inf, []\n",
    "if JuMP.termination_status(SP)==MOI.OPTIMAL\n",
    "    print(\"SOLUTION \\nValeur optimale: \",JuMP.objective_value(SP),\"\\nCycle: \",JuMP.value.(x))\n",
    "end"
   ]
  },
  {
   "cell_type": "code",
   "execution_count": 49,
   "metadata": {},
   "outputs": [
    {
     "data": {
      "text/plain": [
       "6-element Array{LightGraphs.SimpleGraphs.SimpleEdge{Int64},1}:\n",
       " Edge 14 => 13\n",
       " Edge 14 => 15\n",
       " Edge 14 => 16\n",
       " Edge 15 => 4\n",
       " Edge 15 => 14\n",
       " Edge 16 => 4"
      ]
     },
     "execution_count": 49,
     "metadata": {},
     "output_type": "execute_result"
    }
   ],
   "source": [
    "collect(edges(pool))[42:47]"
   ]
  },
  {
   "cell_type": "code",
   "execution_count": 68,
   "metadata": {},
   "outputs": [
    {
     "data": {
      "text/plain": [
       "false"
      ]
     },
     "execution_count": 68,
     "metadata": {},
     "output_type": "execute_result"
    }
   ],
   "source": [
    "x = []\n",
    "size(x,1)\n",
    "isnothing(x)"
   ]
  }
 ],
 "metadata": {
  "kernelspec": {
   "display_name": "Julia 1.5.3",
   "language": "julia",
   "name": "julia-1.5"
  },
  "language_info": {
   "file_extension": ".jl",
   "mimetype": "application/julia",
   "name": "julia",
   "version": "1.5.3"
  }
 },
 "nbformat": 4,
 "nbformat_minor": 4
}
