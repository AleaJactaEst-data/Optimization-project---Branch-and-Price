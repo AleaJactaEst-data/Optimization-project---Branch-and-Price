{
 "cells": [
  {
   "cell_type": "code",
   "execution_count": 2,
   "metadata": {},
   "outputs": [
    {
     "name": "stderr",
     "output_type": "stream",
     "text": [
      "\u001b[32m\u001b[1m   Updating\u001b[22m\u001b[39m registry at `C:\\Users\\aebou\\.julia\\registries\\General`\n",
      "\u001b[32m\u001b[1m  Resolving\u001b[22m\u001b[39m package versions...\n",
      "\u001b[32m\u001b[1m  Installed\u001b[22m\u001b[39m CoinUtils_jll ── v2.11.3+4\n",
      "\u001b[32m\u001b[1m  Installed\u001b[22m\u001b[39m OpenBLAS32_jll ─ v0.3.9+4\n",
      "\u001b[32m\u001b[1m  Installed\u001b[22m\u001b[39m Cgl_jll ──────── v0.60.2+6\n",
      "\u001b[32m\u001b[1m  Installed\u001b[22m\u001b[39m Osi_jll ──────── v0.108.5+4\n",
      "\u001b[32m\u001b[1m  Installed\u001b[22m\u001b[39m Clp_jll ──────── v1.17.6+7\n",
      "\u001b[32m\u001b[1m  Installed\u001b[22m\u001b[39m Cbc_jll ──────── v2.10.5+2\n",
      "\u001b[32m\u001b[1m  Installed\u001b[22m\u001b[39m Cbc ──────────── v0.8.0\n",
      "\u001b[32m\u001b[1mUpdating\u001b[22m\u001b[39m `C:\\Users\\aebou\\.julia\\environments\\v1.5\\Project.toml`\n",
      " \u001b[90m [9961bab8] \u001b[39m\u001b[92m+ Cbc v0.8.0\u001b[39m\n",
      "\u001b[32m\u001b[1mUpdating\u001b[22m\u001b[39m `C:\\Users\\aebou\\.julia\\environments\\v1.5\\Manifest.toml`\n",
      " \u001b[90m [9961bab8] \u001b[39m\u001b[92m+ Cbc v0.8.0\u001b[39m\n",
      " \u001b[90m [38041ee0] \u001b[39m\u001b[92m+ Cbc_jll v2.10.5+2\u001b[39m\n",
      " \u001b[90m [3830e938] \u001b[39m\u001b[92m+ Cgl_jll v0.60.2+6\u001b[39m\n",
      " \u001b[90m [06985876] \u001b[39m\u001b[92m+ Clp_jll v1.17.6+7\u001b[39m\n",
      " \u001b[90m [be027038] \u001b[39m\u001b[92m+ CoinUtils_jll v2.11.3+4\u001b[39m\n",
      " \u001b[90m [656ef2d0] \u001b[39m\u001b[92m+ OpenBLAS32_jll v0.3.9+4\u001b[39m\n",
      " \u001b[90m [7da25872] \u001b[39m\u001b[92m+ Osi_jll v0.108.5+4\u001b[39m\n",
      "\u001b[32m\u001b[1m   Building\u001b[22m\u001b[39m Cbc → `C:\\Users\\aebou\\.julia\\packages\\Cbc\\JdG60\\deps\\build.log`\n"
     ]
    }
   ],
   "source": [
    "import Pkg\n",
    "Pkg.add(\"Cbc\")\n",
    "Pkg.add(\"JuMP\")"
   ]
  },
  {
   "cell_type": "code",
   "execution_count": 1,
   "metadata": {},
   "outputs": [
    {
     "data": {
      "text/plain": [
       "1.0e-5"
      ]
     },
     "execution_count": 1,
     "metadata": {},
     "output_type": "execute_result"
    }
   ],
   "source": [
    "using JuMP\n",
    "using Cbc\n",
    "using DelimitedFiles\n",
    "using NBInclude\n",
    "\n",
    "# constante epsilon\n",
    "const ϵ = 0.00001"
   ]
  },
  {
   "cell_type": "markdown",
   "metadata": {},
   "source": [
    "# Projet Programmation Mathématiques Avancée et Applications\n",
    "Hugo Miccinilli, Aboa Bouadou, Florian Jacta, Theo DI PIAZZA | 4GM\n",
    "\n",
    "## Kidney exchange problem\n",
    "\n",
    "### Introduction et formulation du problème\n",
    "\n",
    "On s'intéresse au problème de don croisé de rein.  \n",
    "**Qu'est ce que le don croisé ?**   \n",
    "\"Il arrive assez souvent qu’une personne soit volontaire pour faire don d’un rein à un proche, parent, conjoint ou ami, mais que le don soit impossible en raison d’une incompatibilité tissulaire avec le receveur. On appellera ces deux personnes la paire A. Une situation identique peut se retrouver ailleurs au sein d’une paire B. Il arrive parfois que le donneur de la paire A soit compatible avec le receveur de la paire B, et vice-versa que le donneur de la paire B soit compatible avec le receveur B. Cette situation – peu courante – peut permettre un « don croisé ».\" (source France-adot)  \n",
    "\n",
    "**Représentation mathématique du problème**  \n",
    "Lorsqu'il y a plusieurs paires patient-donneur, l'opération de greffe est plus compliquée à mettre en place. Mathématiquement, on considère un graphe orienté simple $G = (V,A)$ où V représente l'ensemble des couples patient-donneur $(P_i,D_i)$ et A représente les compatibilités entre entre les différentes paires, c'est à dire $(i,j) \\in A$ si le donneur $D_i$ est compatible avec le patient $P_j$. Certains patients sont prioritaires par rapport à d'autres donc on affecte un score $w_{i,j}$ qui caractérise ce fait. Plus le score est elevé, plus le patient impliqué dans l'arc est prioritaire. Ce score peut être vu comme l'utilité d'un arc donné.\n",
    "\n",
    "**Formulation**  \n",
    "Comme indiqué dans l'énoncé, on peut associer des patients et des donneurs de sorte à former un cycle dans G. Pour des raisons opérationnelles (les différents greffes dans un cycle doivent se dérouler en même temps), il ne faut pas qu'un cycle soit trop long. Soit L la longueur maximale qu'on peut avoir dans un cycle choisi et soit $\\mathcal{C}_L$ l'ensemble des cycles de G tels que $|c| \\le L$ pour $c \\in \\mathcal{C}_L$. On définit $\\mathcal{C}_L(i)$ comme l'ensemble des cycles qui contiennent un sommet $i \\in V$ et $w_c = \\sum \\limits_{(i,j) \\in c} w_{i,j}$ pour $c \\in \\mathcal{C}_L$. L'objectif du problème est de choisir l'ensemble des cycles qui permettra de maximiser l'utilité. Certains patients peuvent donc ne pas avoir de donneurs après résolution du problème. \n",
    "\n",
    "Le problème peut ainsi se formuler comme suit :  \n",
    "\n",
    "*Variables*  \n",
    "$\\forall c \\in \\mathcal{C}_L, z_c = \\{0,1\\} = 1$ si le cycle c est choisi, 0 sinon  \n",
    "\n",
    "*Objectif*  \n",
    "$\\sum \\limits_{c \\in \\mathcal{C}_L} w_cz_c$ \n",
    "\n",
    "*Contraintes*  \n",
    "$\\sum \\limits_{c \\in \\mathcal{C}_L(i)} z_c \\le 1, \\forall i \\in V$  \n",
    "$z \\in \\{0,1\\}^{|\\mathcal{C}_L|}$\n",
    "\n",
    "\n",
    "Le problème ayant un très grand nombre de variables, on veut le résoudre en utilisant l'algorithme de branch and price. \n",
    "\n",
    "### Initialisation du problème\n",
    "\n",
    "Avant de coder l'algorithme, on code quelques classes et fonctions qui seront utiles pour initialiser les instances du problème. On explique en détail ces fonctions dans les différents fichiers qu'on a inclut ci-dessous."
   ]
  },
  {
   "cell_type": "code",
   "execution_count": 2,
   "metadata": {},
   "outputs": [
    {
     "name": "stderr",
     "output_type": "stream",
     "text": [
      "\u001b[32m\u001b[1m   Updating\u001b[22m\u001b[39m registry at `C:\\Users\\aebou\\.julia\\registries\\General`\n",
      "\u001b[32m\u001b[1m  Resolving\u001b[22m\u001b[39m package versions...\n",
      "\u001b[32m\u001b[1mNo Changes\u001b[22m\u001b[39m to `C:\\Users\\aebou\\.julia\\environments\\v1.5\\Project.toml`\n",
      "\u001b[32m\u001b[1mNo Changes\u001b[22m\u001b[39m to `C:\\Users\\aebou\\.julia\\environments\\v1.5\\Manifest.toml`\n",
      "\u001b[32m\u001b[1m  Resolving\u001b[22m\u001b[39m package versions...\n",
      "\u001b[32m\u001b[1mNo Changes\u001b[22m\u001b[39m to `C:\\Users\\aebou\\.julia\\environments\\v1.5\\Project.toml`\n",
      "\u001b[32m\u001b[1mNo Changes\u001b[22m\u001b[39m to `C:\\Users\\aebou\\.julia\\environments\\v1.5\\Manifest.toml`\n",
      "\u001b[32m\u001b[1m  Resolving\u001b[22m\u001b[39m package versions...\n",
      "\u001b[32m\u001b[1mNo Changes\u001b[22m\u001b[39m to `C:\\Users\\aebou\\.julia\\environments\\v1.5\\Project.toml`\n",
      "\u001b[32m\u001b[1mNo Changes\u001b[22m\u001b[39m to `C:\\Users\\aebou\\.julia\\environments\\v1.5\\Manifest.toml`\n",
      "\u001b[32m\u001b[1m  Resolving\u001b[22m\u001b[39m package versions...\n",
      "\u001b[32m\u001b[1mNo Changes\u001b[22m\u001b[39m to `C:\\Users\\aebou\\.julia\\environments\\v1.5\\Project.toml`\n",
      "\u001b[32m\u001b[1mNo Changes\u001b[22m\u001b[39m to `C:\\Users\\aebou\\.julia\\environments\\v1.5\\Manifest.toml`"
     ]
    },
    {
     "name": "stdout",
     "output_type": "stream",
     "text": [
      "There is an arc going from node 1 to 3. It is: Edge 1 => 3\n",
      "There is an arc going from node 1 to 16. It is: Edge 1 => 16\n",
      "There is an arc going from node 2 to 4. It is: Edge 2 => 4\n",
      "There is an arc going from node 2 to 14. It is: Edge 2 => 14\n",
      "There is an arc going from node 3 to 4. It is: Edge 3 => 4\n",
      "There is an arc going from node 3 to 14. It is: Edge 3 => 14\n",
      "There is an arc going from node 4 to 6. It is: Edge 4 => 6\n",
      "There is an arc going from node 4 to 13. It is: Edge 4 => 13\n",
      "There is an arc going from node 4 to 16. It is: Edge 4 => 16\n",
      "There is an arc going from node 5 to 1. It is: Edge 5 => 1\n",
      "There is an arc going from node 5 to 2. It is: Edge 5 => 2\n",
      "There is an arc going from node 5 to 4. It is: Edge 5 => 4\n",
      "There is an arc going from node 5 to 6. It is: Edge 5 => 6\n",
      "There is an arc going from node 5 to 8. It is: Edge 5 => 8\n",
      "There is an arc going from node 5 to 10. It is: Edge 5 => 10\n",
      "There is an arc going from node 5 to 11. It is: Edge 5 => 11\n",
      "There is an arc going from node 5 to 13. It is: Edge 5 => 13\n",
      "There is an arc going from node 5 to 14. It is: Edge 5 => 14\n",
      "There is an arc going from node 5 to 16. It is: Edge 5 => 16\n",
      "There is an arc going from node 6 to 4. It is: Edge 6 => 4\n",
      "There is an arc going from node 6 to 14. It is: Edge 6 => 14\n",
      "There is an arc going from node 7 to 2. It is: Edge 7 => 2\n",
      "There is an arc going from node 7 to 4. It is: Edge 7 => 4\n",
      "There is an arc going from node 7 to 5. It is: Edge 7 => 5\n",
      "There is an arc going from node 7 to 8. It is: Edge 7 => 8\n",
      "There is an arc going from node 7 to 10. It is: Edge 7 => 10\n",
      "There is an arc going from node 7 to 11. It is: Edge 7 => 11\n",
      "There is an arc going from node 7 to 14. It is: Edge 7 => 14\n",
      "There is an arc going from node 7 to 16. It is: Edge 7 => 16\n",
      "There is an arc going from node 8 to 4. It is: Edge 8 => 4\n",
      "There is an arc going from node 8 to 14. It is: Edge 8 => 14\n",
      "There is an arc going from node 9 to 6. It is: Edge 9 => 6\n",
      "There is an arc going from node 9 to 15. It is: Edge 9 => 15\n",
      "There is an arc going from node 10 to 4. It is: Edge 10 => 4\n",
      "There is an arc going from node 10 to 14. It is: Edge 10 => 14\n",
      "There is an arc going from node 11 to 4. It is: Edge 11 => 4\n",
      "There is an arc going from node 11 to 14. It is: Edge 11 => 14\n",
      "There is an arc going from node 13 to 4. It is: Edge 13 => 4\n",
      "There is an arc going from node 13 to 14. It is: Edge 13 => 14\n",
      "There is an arc going from node 14 to 3. It is: Edge 14 => 3\n",
      "There is an arc going from node 14 to 6. It is: Edge 14 => 6\n",
      "There is an arc going from node 14 to 13. It is: Edge 14 => 13\n",
      "There is an arc going from node 14 to 15. It is: Edge 14 => 15\n",
      "There is an arc going from node 14 to 16. It is: Edge 14 => 16\n",
      "There is an arc going from node 15 to 4. It is: Edge 15 => 4\n",
      "There is an arc going from node 15 to 14. It is: Edge 15 => 14\n",
      "There is an arc going from node 16 to 4. It is: Edge 16 => 4"
     ]
    },
    {
     "name": "stderr",
     "output_type": "stream",
     "text": [
      "\n"
     ]
    },
    {
     "name": "stdout",
     "output_type": "stream",
     "text": [
      "\n"
     ]
    },
    {
     "data": {
      "text/plain": [
       "master (generic function with 1 method)"
      ]
     },
     "execution_count": 2,
     "metadata": {},
     "output_type": "execute_result"
    }
   ],
   "source": [
    "@nbinclude(\"dataparser.ipynb\")\n",
    "@nbinclude(\"classes.ipynb\")\n",
    "@nbinclude(\"traitement_noeuds.ipynb\")"
   ]
  },
  {
   "cell_type": "code",
   "execution_count": 5,
   "metadata": {},
   "outputs": [
    {
     "data": {
      "text/plain": [
       "degreInt (generic function with 1 method)"
      ]
     },
     "execution_count": 5,
     "metadata": {},
     "output_type": "execute_result"
    }
   ],
   "source": [
    "# Pour chaque paire, on va récupérer les arcs dont ils sont l'origine (calcul du demi-degré extérieur des sommets du graphe)\n",
    "function degreExt(kep)\n",
    "    origine = Array{Array{Int64,1},1}()\n",
    "    for v in 1:nv(kep)\n",
    "        # On recupère les indices des arcs dont l'origine est v\n",
    "        origin_v = Array{Int64,1}()\n",
    "        for (ind,arc) in enumerate(edges(kep))\n",
    "            if src(arc) == v\n",
    "                push!(origin_v,ind)\n",
    "            end\n",
    "        end\n",
    "        push!(origine,origin_v)\n",
    "    end\n",
    "    return origine\n",
    "end\n",
    "\n",
    "# Pour chaque paire, on va récupérer les arcs dont ils sont la destination (calcul du demi-degré intérieur des sommets)\n",
    "function degreInt(kep)\n",
    "    dest = Array{Array{Int64,1},1}()\n",
    "    for v in 1:nv(kep)\n",
    "        # On recupère les indices des arcs dont l'origine est v\n",
    "        dest_v = Array{Int64,1}()\n",
    "        for (ind,arc) in enumerate(edges(kep))\n",
    "            if dst(arc) == v\n",
    "                push!(dest_v,ind)\n",
    "            end\n",
    "        end\n",
    "        push!(dest,dest_v)\n",
    "    end\n",
    "    return dest\n",
    "end\n"
   ]
  },
  {
   "cell_type": "code",
   "execution_count": 13,
   "metadata": {},
   "outputs": [
    {
     "name": "stdout",
     "output_type": "stream",
     "text": [
      "Edge 1 => 3\n",
      "Edge 1 => 16\n",
      "Edge 2 => 4\n",
      "Edge 2 => 14\n",
      "Edge 3 => 4\n",
      "Edge 3 => 14\n",
      "Edge 4 => 6\n",
      "Edge 4 => 13\n",
      "Edge 4 => 16\n",
      "Edge 5 => 1\n",
      "Edge 5 => 2\n",
      "Edge 5 => 4\n",
      "Edge 5 => 6\n",
      "Edge 5 => 8\n",
      "Edge 5 => 10\n",
      "Edge 5 => 11\n",
      "Edge 5 => 13\n",
      "Edge 5 => 14\n",
      "Edge 5 => 16\n",
      "Edge 6 => 4\n",
      "Edge 6 => 14\n",
      "Edge 7 => 2\n",
      "Edge 7 => 4\n",
      "Edge 7 => 5\n",
      "Edge 7 => 8\n",
      "Edge 7 => 10\n",
      "Edge 7 => 11\n",
      "Edge 7 => 14\n",
      "Edge 7 => 16\n",
      "Edge 8 => 4\n",
      "Edge 8 => 14\n",
      "Edge 9 => 6\n",
      "Edge 9 => 15\n",
      "Edge 10 => 4\n",
      "Edge 10 => 14\n",
      "Edge 11 => 4\n",
      "Edge 11 => 14\n",
      "Edge 13 => 4\n",
      "Edge 13 => 14\n",
      "Edge 14 => 3\n",
      "Edge 14 => 6\n",
      "Edge 14 => 13\n",
      "Edge 14 => 15\n",
      "Edge 14 => 16\n",
      "Edge 15 => 4\n",
      "Edge 15 => 14\n",
      "Edge 16 => 4\n"
     ]
    }
   ],
   "source": [
    "for edge = collect(edges(pool))\n",
    "    print(edge,\"\\n\")\n",
    "end"
   ]
  },
  {
   "cell_type": "code",
   "execution_count": 14,
   "metadata": {},
   "outputs": [
    {
     "data": {
      "text/plain": [
       "16-element Array{Array{Int64,1},1}:\n",
       " [10]\n",
       " [11, 22]\n",
       " [1, 40]\n",
       " [3, 5, 12, 20, 23, 30, 34, 36, 38, 45, 47]\n",
       " [24]\n",
       " [7, 13, 32, 41]\n",
       " []\n",
       " [14, 25]\n",
       " []\n",
       " [15, 26]\n",
       " [16, 27]\n",
       " []\n",
       " [8, 17, 42]\n",
       " [4, 6, 18, 21, 28, 31, 35, 37, 39, 46]\n",
       " [33, 43]\n",
       " [2, 9, 19, 29, 44]"
      ]
     },
     "execution_count": 14,
     "metadata": {},
     "output_type": "execute_result"
    }
   ],
   "source": [
    "degreInt(pool)"
   ]
  },
  {
   "cell_type": "code",
   "execution_count": null,
   "metadata": {},
   "outputs": [],
   "source": [
    "degreExt(pool)"
   ]
  },
  {
   "cell_type": "markdown",
   "metadata": {},
   "source": [
    "Le sous problème associé au master s'écrit :\n",
    "$$min \\sum \\limits_{a \\in A} w_ax_a - \\sum \\limits_{i \\in V} \\pi_iy_i \\\\ s.l.c \\sum \\limits_{ a \\in \\delta^+(i)} x_a =   \\sum \\limits_{ a \\in \\delta^-(i)} x_a \\text{,  } \\forall i \\in V \\\\ \\sum \\limits_{a \\in A} x_a \\le L \\\\ \\sum \\limits_{ a \\in \\delta^-(i)} x_a = y_i \\text{,  } \\forall i \\in V \\\\ x \\in \\{0,1\\}^{|A|} \\\\ y \\in \\{0,1\\}^{|V|}$$\n",
    "\n",
    "On cherche donc un cycle de longueur maximale égale à L qui minimise le coût réduit.\n",
    "La fonction permettant d'initialiser le sous-problème est écrite dans le fichier *traitement_noeud*"
   ]
  }
 ],
 "metadata": {
  "kernelspec": {
   "display_name": "Julia 1.5.3",
   "language": "julia",
   "name": "julia-1.5"
  },
  "language_info": {
   "file_extension": ".jl",
   "mimetype": "application/julia",
   "name": "julia",
   "version": "1.5.3"
  }
 },
 "nbformat": 4,
 "nbformat_minor": 4
}
