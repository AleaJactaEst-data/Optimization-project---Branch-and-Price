{
 "cells": [
  {
   "cell_type": "code",
   "execution_count": null,
   "metadata": {},
   "outputs": [],
   "source": [
    "import Pkg\n",
    "Pkg.add(\"Cbc\")\n",
    "Pkg.add(\"JuMP\")"
   ]
  },
  {
   "cell_type": "code",
   "execution_count": null,
   "metadata": {},
   "outputs": [],
   "source": [
    "Pkg.add(\"GLPK\")"
   ]
  },
  {
   "cell_type": "code",
   "execution_count": null,
   "metadata": {},
   "outputs": [],
   "source": [
    "Pkg.add(\"Gurobi\")"
   ]
  },
  {
   "cell_type": "code",
   "execution_count": null,
   "metadata": {},
   "outputs": [],
   "source": [
    "Pkg.add(\"IterTools\")"
   ]
  },
  {
   "cell_type": "code",
   "execution_count": 1,
   "metadata": {},
   "outputs": [
    {
     "name": "stdout",
     "output_type": "stream",
     "text": [
      "Academic license - for non-commercial use only - expires 2021-06-28\n"
     ]
    },
    {
     "data": {
      "text/plain": [
       "1.0e-5"
      ]
     },
     "execution_count": 1,
     "metadata": {},
     "output_type": "execute_result"
    }
   ],
   "source": [
    "using JuMP\n",
    "using Cbc\n",
    "using DelimitedFiles\n",
    "using NBInclude\n",
    "using GLPK\n",
    "using Gurobi\n",
    "const GUROBI_ENV = Gurobi.Env()\n",
    "const L = 6\n",
    "using IterTools\n",
    "\n",
    "# constante epsilon\n",
    "const ϵ = 0.00001"
   ]
  },
  {
   "cell_type": "code",
   "execution_count": 2,
   "metadata": {},
   "outputs": [
    {
     "data": {
      "text/plain": [
       "6"
      ]
     },
     "execution_count": 2,
     "metadata": {},
     "output_type": "execute_result"
    }
   ],
   "source": [
    "L"
   ]
  },
  {
   "cell_type": "markdown",
   "metadata": {},
   "source": [
    "# Projet Programmation Mathématiques Avancée et Applications\n",
    "Hugo Miccinilli, Aboa Bouadou, Florian Jacta, Theo DI PIAZZA | 4GM\n",
    "\n",
    "## Kidney exchange problem\n",
    "\n",
    "### Introduction et formulation du problème\n",
    "\n",
    "On s'intéresse au problème de don croisé de rein.  \n",
    "**Qu'est ce que le don croisé ?**   \n",
    "\"Il arrive assez souvent qu’une personne soit volontaire pour faire don d’un rein à un proche, parent, conjoint ou ami, mais que le don soit impossible en raison d’une incompatibilité tissulaire avec le receveur. On appellera ces deux personnes la paire A. Une situation identique peut se retrouver ailleurs au sein d’une paire B. Il arrive parfois que le donneur de la paire A soit compatible avec le receveur de la paire B, et vice-versa que le donneur de la paire B soit compatible avec le receveur B. Cette situation – peu courante – peut permettre un « don croisé ».\" (source France-adot)  \n",
    "\n",
    "**Représentation mathématique du problème**  \n",
    "Lorsqu'il y a plusieurs paires patient-donneur, l'opération de greffe est plus compliquée à mettre en place. Mathématiquement, on considère un graphe orienté simple $G = (V,A)$ où V représente l'ensemble des couples patient-donneur $(P_i,D_i)$ et A représente les compatibilités entre entre les différentes paires, c'est à dire $(i,j) \\in A$ si le donneur $D_i$ est compatible avec le patient $P_j$. Certains patients sont prioritaires par rapport à d'autres donc on affecte un score $w_{i,j}$ qui caractérise ce fait. Plus le score est elevé, plus le patient impliqué dans l'arc est prioritaire. Ce score peut être vu comme l'utilité d'un arc donné.\n",
    "\n",
    "**Formulation**  \n",
    "Comme indiqué dans l'énoncé, on peut associer des patients et des donneurs de sorte à former un cycle dans G. Pour des raisons opérationnelles (les différents greffes dans un cycle doivent se dérouler en même temps), il ne faut pas qu'un cycle soit trop long. Soit L la longueur maximale qu'on peut avoir dans un cycle choisi et soit $\\mathcal{C}_L$ l'ensemble des cycles de G tels que $|c| \\le L$ pour $c \\in \\mathcal{C}_L$. On définit $\\mathcal{C}_L(i)$ comme l'ensemble des cycles qui contiennent un sommet $i \\in V$ et $w_c = \\sum \\limits_{(i,j) \\in c} w_{i,j}$ pour $c \\in \\mathcal{C}_L$. L'objectif du problème est de choisir l'ensemble des cycles qui permettra de maximiser l'utilité. Certains patients peuvent donc ne pas avoir de donneurs après résolution du problème. \n",
    "\n",
    "Le problème peut ainsi se formuler comme suit :  \n",
    "\n",
    "*Variables*  \n",
    "$\\forall c \\in \\mathcal{C}_L, z_c = \\{0,1\\} = 1$ si le cycle c est choisi, 0 sinon  \n",
    "\n",
    "*Objectif*  \n",
    "$\\sum \\limits_{c \\in \\mathcal{C}_L} w_cz_c$ \n",
    "\n",
    "*Contraintes*  \n",
    "$\\sum \\limits_{c \\in \\mathcal{C}_L(i)} z_c \\le 1, \\forall i \\in V$  \n",
    "$z \\in \\{0,1\\}^{|\\mathcal{C}_L|}$\n",
    "\n",
    "\n",
    "Le problème ayant un très grand nombre de variables, on veut le résoudre en utilisant l'algorithme de branch and price. \n",
    "\n",
    "### Initialisation du problème\n",
    "\n",
    "Avant de coder l'algorithme, on code quelques classes et fonctions qui seront utiles pour initialiser les instances du problème. On explique en détail ces fonctions dans les différents fichiers qu'on a inclut ci-dessous."
   ]
  },
  {
   "cell_type": "code",
   "execution_count": 57,
   "metadata": {},
   "outputs": [
    {
     "name": "stdout",
     "output_type": "stream",
     "text": [
      "Academic license - for non-commercial use only - expires 2021-06-28\n"
     ]
    },
    {
     "name": "stderr",
     "output_type": "stream",
     "text": [
      "WARNING: redefinition of constant GUROBI_ENV. This may fail, cause incorrect answers, or produce other errors.\n",
      "\u001b[32m\u001b[1m  Resolving\u001b[22m\u001b[39m package versions...\n",
      "\u001b[32m\u001b[1mNo Changes\u001b[22m\u001b[39m to `C:\\Users\\aebou\\.julia\\environments\\v1.5\\Project.toml`\n",
      "\u001b[32m\u001b[1mNo Changes\u001b[22m\u001b[39m to `C:\\Users\\aebou\\.julia\\environments\\v1.5\\Manifest.toml`\n",
      "\u001b[32m\u001b[1m  Resolving\u001b[22m\u001b[39m package versions...\n",
      "\u001b[32m\u001b[1mNo Changes\u001b[22m\u001b[39m to `C:\\Users\\aebou\\.julia\\environments\\v1.5\\Project.toml`\n",
      "\u001b[32m\u001b[1mNo Changes\u001b[22m\u001b[39m to `C:\\Users\\aebou\\.julia\\environments\\v1.5\\Manifest.toml`\n",
      "\u001b[32m\u001b[1m  Resolving\u001b[22m\u001b[39m package versions...\n",
      "\u001b[32m\u001b[1mNo Changes\u001b[22m\u001b[39m to `C:\\Users\\aebou\\.julia\\environments\\v1.5\\Project.toml`\n",
      "\u001b[32m\u001b[1mNo Changes\u001b[22m\u001b[39m to `C:\\Users\\aebou\\.julia\\environments\\v1.5\\Manifest.toml`\n",
      "\u001b[32m\u001b[1m  Resolving\u001b[22m\u001b[39m package versions...\n",
      "\u001b[32m\u001b[1mNo Changes\u001b[22m\u001b[39m to `C:\\Users\\aebou\\.julia\\environments\\v1.5\\Project.toml`\n",
      "\u001b[32m\u001b[1mNo Changes\u001b[22m\u001b[39m to `C:\\Users\\aebou\\.julia\\environments\\v1.5\\Manifest.toml`\n"
     ]
    },
    {
     "data": {
      "text/plain": [
       "degreInt (generic function with 1 method)"
      ]
     },
     "execution_count": 57,
     "metadata": {},
     "output_type": "execute_result"
    }
   ],
   "source": [
    "@nbinclude(\"Euristic.ipynb\");\n",
    "@nbinclude(\"dataparser.ipynb\");\n",
    "@nbinclude(\"classes.ipynb\");\n",
    "@nbinclude(\"traitement_noeuds.ipynb\");\n",
    "@nbinclude(\"branch_and_price.ipynb\");\n",
    "@nbinclude(\"colonnes.ipynb\");\n",
    "@nbinclude(\"utiles.ipynb\")"
   ]
  },
  {
   "cell_type": "code",
   "execution_count": 58,
   "metadata": {},
   "outputs": [],
   "source": [
    "origine = degreExt(pool);\n",
    "dest = degreInt(pool);"
   ]
  },
  {
   "cell_type": "code",
   "execution_count": 59,
   "metadata": {},
   "outputs": [
    {
     "name": "stdout",
     "output_type": "stream",
     "text": [
      "Current list of nodes to be processed:[1]\n",
      "\u001b[93m Processing node 1 \u001b[00m\n",
      "Variables set to zero are:Int64[]\n",
      "Variables set to one are:Int64[]\n",
      "\u001b[32m Solution réalisable de valeur -0.0 trouvée \u001b[00m\n",
      "\u001b[34m Cycle avec les arcs [56, 81, 108, 115, 159, 195] ajouté \u001b[00m\n",
      "\u001b[32m Solution réalisable de valeur 6.0 trouvée \u001b[00m\n",
      "\u001b[34m Cycle avec les arcs [12, 110] ajouté \u001b[00m\n",
      "\u001b[34m Cycle avec les arcs [48, 243] ajouté \u001b[00m\n",
      "\u001b[34m Cycle avec les arcs [73, 182] ajouté \u001b[00m\n",
      "\u001b[32m Solution réalisable de valeur 10.0 trouvée \u001b[00m\n",
      "\u001b[34m Cycle avec les arcs [78, 157, 171, 207] ajouté \u001b[00m\n",
      "\u001b[34m Cycle avec les arcs [79, 154] ajouté \u001b[00m\n",
      "\u001b[32m Solution réalisable de valeur 12.0 trouvée \u001b[00m\n",
      "\u001b[34m Cycle avec les arcs [1, 35, 98, 214] ajouté \u001b[00m\n",
      "\u001b[34m Cycle avec les arcs [17, 179] ajouté \u001b[00m\n",
      "\u001b[32m Solution réalisable de valeur 14.0 trouvée \u001b[00m\n",
      "\u001b[34m Cycle avec les arcs [56, 104] ajouté \u001b[00m\n",
      "\u001b[34m Cycle avec les arcs [78, 171, 204] ajouté \u001b[00m\n",
      "\u001b[32m Solution réalisable de valeur 17.0 trouvée \u001b[00m\n",
      "\u001b[34m Cycle avec les arcs [8, 75, 101, 107, 110, 208] ajouté \u001b[00m\n",
      "\u001b[34m Cycle avec les arcs [57, 81, 128, 199, 203, 220] ajouté \u001b[00m\n",
      "\u001b[34m Cycle avec les arcs [47, 232, 243] ajouté \u001b[00m\n",
      "\u001b[34m Cycle avec les arcs [54, 78, 168] ajouté \u001b[00m\n",
      "\u001b[34m Cycle avec les arcs [1, 5, 39, 132] ajouté \u001b[00m\n",
      "\u001b[34m Cycle avec les arcs [59, 203] ajouté \u001b[00m\n",
      "\u001b[34m Cycle avec les arcs [39, 151, 243] ajouté \u001b[00m\n",
      "Node relaxation is solved to optimality\n",
      "Node upper bound is 18.0\n",
      "Node lower bound is 18.0\n",
      "Two new nodes are created branching on variable x[1]\n",
      "LB=17.0,UB=18.0\n",
      "Current list of nodes to be processed:[2, 3]\n",
      "\u001b[93m Processing node 2 \u001b[00m\n",
      "Variables set to zero are:[1]\n",
      "Variables set to one are:Int64[]\n",
      "\u001b[34m Cycle avec les arcs [80, 107, 128, 155, 220] ajouté \u001b[00m\n",
      "\u001b[34m Cycle avec les arcs [18, 103, 128, 159, 191, 215] ajouté \u001b[00m\n",
      "\u001b[32m Solution réalisable de valeur 18.0 trouvée \u001b[00m\n",
      "\u001b[34m Cycle avec les arcs [39, 149, 232, 243] ajouté \u001b[00m\n",
      "Node relaxation is solved to optimality\n",
      "Node upper bound is 18.0\n",
      "Node lower bound is 18.0\n",
      "Two new nodes are created branching on variable x[8]\n",
      "LB=18.0,UB=18.0\n",
      "Optimality gap small enough : 0.0\n"
     ]
    },
    {
     "data": {
      "text/plain": [
       "(value = nothing, time = 1.013336, bytes = 63044670, gctime = 0.0, gcstats = Base.GC_Diff(63044670, 0, 0, 1171263, 1171, 0, 0, 0, 0))"
      ]
     },
     "execution_count": 59,
     "metadata": {},
     "output_type": "execute_result"
    }
   ],
   "source": [
    "result = @timed solve_BP()"
   ]
  },
  {
   "cell_type": "code",
   "execution_count": null,
   "metadata": {},
   "outputs": [],
   "source": [
    "findall(x->x!=0,result[1])\n",
    "x = result[1]\n",
    "sol= MetaDiGraph(nv(pool), 0)\n",
    "for (ind,arc) in enumerate(edges(pool))\n",
    "    if x[ind]!=0\n",
    "        add_edge!(sol,src(arc),dst(arc))\n",
    "    end\n",
    "end"
   ]
  },
  {
   "cell_type": "code",
   "execution_count": 60,
   "metadata": {},
   "outputs": [
    {
     "ename": "LoadError",
     "evalue": "UndefVarError: sol not defined",
     "output_type": "error",
     "traceback": [
      "UndefVarError: sol not defined",
      "",
      "Stacktrace:",
      " [1] top-level scope at In[60]:1",
      " [2] include_string(::Function, ::Module, ::String, ::String) at .\\loading.jl:1091"
     ]
    }
   ],
   "source": [
    "gplot(sol,layout=random_layout,nodelabel = collect(1:nv(sol)))"
   ]
  },
  {
   "cell_type": "code",
   "execution_count": null,
   "metadata": {},
   "outputs": [],
   "source": [
    "gplot(pool,layout=random_layout,nodelabel = collect(1:nv(pool)))"
   ]
  },
  {
   "cell_type": "code",
   "execution_count": null,
   "metadata": {},
   "outputs": [],
   "source": [
    "findall(x->x!=0,result[1])"
   ]
  },
  {
   "cell_type": "code",
   "execution_count": null,
   "metadata": {},
   "outputs": [],
   "source": [
    "testo = Array{Array{Int,1},1}()\n",
    "for x in collect(filter(x->length(x)==L-1, simplecycles_hadwick_james(pool)))\n",
    "    if 14 in x && 30 in x && 25 in x \n",
    "        #print(x,\"\\n\")\n",
    "        push!(testo,x)\n",
    "    end\n",
    "end\n",
    "testo\n",
    "\n",
    "arr = [1,4,25,30,14]\n",
    "!(arr  in testo)"
   ]
  },
  {
   "cell_type": "markdown",
   "metadata": {},
   "source": [
    "Le sous problème associé au master s'écrit :\n",
    "$$max \\sum \\limits_{a \\in A} w_ax_a - \\sum \\limits_{i \\in V} \\pi_iy_i \\\\ s.l.c \\sum \\limits_{ a \\in \\delta^+(i)} x_a =   \\sum \\limits_{ a \\in \\delta^-(i)} x_a \\text{,  } \\forall i \\in V \\\\ \\sum \\limits_{a \\in A} x_a \\le L \\\\ \\sum \\limits_{ a \\in \\delta^-(i)} x_a = y_i \\text{,  } \\forall i \\in V \\\\ x \\in \\{0,1\\}^{|A|} \\\\ y \\in \\{0,1\\}^{|V|}$$\n",
    "\n",
    "On cherche donc un cycle de longueur maximale égale à L qui minimise le coût réduit.\n",
    "La fonction permettant d'initialiser le sous-problème est écrite dans le fichier *traitement_noeud*"
   ]
  },
  {
   "cell_type": "code",
   "execution_count": null,
   "metadata": {},
   "outputs": [],
   "source": [
    "# Génération de colonne bidon \n",
    "function init_col(pool)\n",
    "    added_node = zeros(Int,nv(pool))\n",
    "    edge_selected = zeros(Int,ne(pool))\n",
    "    for (ind,arc) in enumerate(edges(pool))\n",
    "        if added_node[src(arc)] ==0 && added_node[dst(arc)] == 0\n",
    "            edge_selected[ind]=1\n",
    "            added_node[src(arc)]=1\n",
    "            added_node[dst(arc)]=1\n",
    "        end\n",
    "    end\n",
    "    return vcat(-1000,edge_selected)\n",
    "end\n"
   ]
  },
  {
   "cell_type": "code",
   "execution_count": null,
   "metadata": {},
   "outputs": [],
   "source": [
    "re = init_col(pool)"
   ]
  },
  {
   "cell_type": "code",
   "execution_count": null,
   "metadata": {},
   "outputs": [],
   "source": [
    "findall(x->x!=0,re)"
   ]
  },
  {
   "cell_type": "code",
   "execution_count": null,
   "metadata": {},
   "outputs": [],
   "source": [
    "filter(x->length(x)<=L, simplecycles_hadwick_james(pool))"
   ]
  },
  {
   "cell_type": "code",
   "execution_count": 61,
   "metadata": {},
   "outputs": [
    {
     "data": {
      "text/plain": [
       "get_cycles (generic function with 1 method)"
      ]
     },
     "execution_count": 61,
     "metadata": {},
     "output_type": "execute_result"
    }
   ],
   "source": [
    "function get_cycles(pool, L)\n",
    "    paires = 1:nv(pool)\n",
    "    cycles = Array{Array{Int,1},1}()\n",
    "    ens_arcs = collect(edges(pool))\n",
    "    function rec_enum(p,c,L)\n",
    "        for arc in origine[p]\n",
    "            q = dst(ens_arcs[arc])\n",
    "            if  q == c[1]\n",
    "                push!(cycles,c)\n",
    "            elseif q <= c[1]\n",
    "                continue\n",
    "            elseif q in c\n",
    "                continue\n",
    "            elseif size(c,1)<=L-1\n",
    "                cc = copy(c)\n",
    "                push!(cc,q)\n",
    "                rec_enum(q,cc,L)\n",
    "            end\n",
    "        end\n",
    "    end\n",
    "    \n",
    "    for p in paires\n",
    "        if(!isempty(origine[p]))\n",
    "            c = [p]\n",
    "            rec_enum(p,copy(c),L)\n",
    "        end\n",
    "    end\n",
    "    \n",
    "    return cycles\n",
    "end\n",
    "        "
   ]
  },
  {
   "cell_type": "code",
   "execution_count": 62,
   "metadata": {},
   "outputs": [
    {
     "data": {
      "text/plain": [
       "3056-element Array{Array{Int64,1},1}:\n",
       " [1, 4]\n",
       " [1, 4, 2]\n",
       " [1, 4, 2, 5, 13, 14]\n",
       " [1, 4, 2, 5, 14]\n",
       " [1, 4, 2, 5, 14, 22]\n",
       " [1, 4, 2, 5, 14, 29]\n",
       " [1, 4, 2, 5, 17, 14]\n",
       " [1, 4, 2, 5, 26, 14]\n",
       " [1, 4, 2, 6, 13, 14]\n",
       " [1, 4, 2, 6, 14]\n",
       " [1, 4, 2, 6, 14, 22]\n",
       " [1, 4, 2, 6, 14, 29]\n",
       " [1, 4, 2, 6, 17, 14]\n",
       " ⋮\n",
       " [14, 29, 25, 30]\n",
       " [14, 29, 25, 30, 17]\n",
       " [14, 29, 26]\n",
       " [14, 29, 26, 17]\n",
       " [14, 29, 31]\n",
       " [14, 29, 31, 17]\n",
       " [14, 29, 32]\n",
       " [14, 29, 32, 17]\n",
       " [14, 31]\n",
       " [14, 31, 17]\n",
       " [14, 32]\n",
       " [14, 32, 17]"
      ]
     },
     "execution_count": 62,
     "metadata": {},
     "output_type": "execute_result"
    }
   ],
   "source": [
    "res = get_cycles(pool,L)"
   ]
  },
  {
   "cell_type": "code",
   "execution_count": 64,
   "metadata": {},
   "outputs": [
    {
     "data": {
      "text/plain": [
       "3056-element Array{Array{Int64,1},1}:\n",
       " [1, 28]\n",
       " [1, 29, 5]\n",
       " [1, 29, 6, 50, 107, 109]\n",
       " [1, 29, 6, 51, 109]\n",
       " [1, 29, 6, 51, 122, 178]\n",
       " [1, 29, 6, 51, 128, 214]\n",
       " [1, 29, 6, 52, 159, 109]\n",
       " [1, 29, 6, 53, 206, 109]\n",
       " [1, 29, 7, 56, 107, 109]\n",
       " [1, 29, 7, 57, 109]\n",
       " [1, 29, 7, 57, 122, 178]\n",
       " [1, 29, 7, 57, 128, 214]\n",
       " [1, 29, 7, 58, 159, 109]\n",
       " ⋮\n",
       " [128, 229, 202, 237]\n",
       " [128, 229, 202, 238, 159]\n",
       " [128, 230, 206]\n",
       " [128, 230, 207, 159]\n",
       " [128, 231, 241]\n",
       " [128, 231, 242, 159]\n",
       " [128, 232, 247]\n",
       " [128, 232, 248, 159]\n",
       " [129, 241]\n",
       " [129, 242, 159]\n",
       " [130, 247]\n",
       " [130, 248, 159]"
      ]
     },
     "execution_count": 64,
     "metadata": {},
     "output_type": "execute_result"
    }
   ],
   "source": [
    "res2 = get_cycles_arcs(res)"
   ]
  },
  {
   "cell_type": "code",
   "execution_count": 74,
   "metadata": {},
   "outputs": [
    {
     "data": {
      "text/plain": [
       "formulationIP (generic function with 1 method)"
      ]
     },
     "execution_count": 74,
     "metadata": {},
     "output_type": "execute_result"
    }
   ],
   "source": [
    "function formulationIP(pool)\n",
    "    # Initialisation du modèle\n",
    "    model = Model(optimizer_with_attributes(() -> Gurobi.Optimizer(GUROBI_ENV)))\n",
    "    set_optimizer_attribute(model, \"OutputFlag\", 0)\n",
    "    \n",
    "    # Recupération des cycles de longueur < L\n",
    "    cycles = get_cycles_arcs(get_cycles(pool,L))\n",
    "    nb_cycles = size(cycles,1)\n",
    "    # Definition et calcul des \"colonnes\" associées à chaque cycle\n",
    "    # 1er element -> cout du cycle\n",
    "    # 2 - nb(arcs) elements -> vaut 1 si l arc est dans le cycle, 0 sinon\n",
    "    col_pool = Array{Array{Int,1},1}(undef,nb_cycles)\n",
    "    cost = []\n",
    "    for ind in 1:nb_cycles\n",
    "        cost = sum(weights[a] for a in cycles[ind])\n",
    "        val_arcs = zeros(Int,ne(pool))\n",
    "        val_arcs[cycles[ind]].= 1\n",
    "        col_pool[ind] = vcat(cost,val_arcs)\n",
    "    end\n",
    "    \n",
    "    # Definition des variables\n",
    "    # variable cycle \n",
    "    # z_c = 1 si cycle c choisi, 0 sinon\n",
    "    @variable(model,z[c in 1:nb_cycles],Bin)\n",
    "    \n",
    "    # Contraintes\n",
    "    # Si une paire est dans un cyle, alors le cycle contient un arc dont la paire est à l'origine\n",
    "    # definition de  y_c_i = 1 si sommet i dans le cycle c, 0 sinon\n",
    "    y = zeros(Int, size(col_pool,1), nv(pool))\n",
    "    for c in 1:nb_cycles\n",
    "        for v in 1:nv(pool)\n",
    "            if(!isempty(origine[v]))\n",
    "                y[c,v] = sum(col_pool[c][k+1] for k in origine[v])\n",
    "            end\n",
    "        end\n",
    "    end\n",
    "    \n",
    "    paire = Array{ConstraintRef,1}(undef,nv(pool))\n",
    "    for v in 1:nv(pool)\n",
    "        paire[v] = @constraint(model,sum(y[c,v]*z[c] for c in 1:nb_cycles)<=1)\n",
    "        set_name(paire[v],\"paire_$v\")\n",
    "    end\n",
    "    \n",
    "    optimize!(model)\n",
    "\n",
    "    # Si le probleme est resolu à l'optimalité, on renvoie la solution \n",
    "    # ainsi que les arcs\n",
    "    if JuMP.termination_status(model)==MOI.OPTIMAL\n",
    "        x = Array{Float32,1}(undef,ne(pool))\n",
    "        for edge in 1:ne(pool)\n",
    "            x[edge] = sum(col_pool[c][edge+1]*JuMP.value.(z)[c] for c in 1:nb_cycles)\n",
    "        end\n",
    "        return JuMP.objective_value(model),x\n",
    "    else\n",
    "        return \"PROBLEME NON RESOLU\"\n",
    "    end\n",
    "    \n",
    "end\n",
    "    \n",
    "    \n",
    "    \n",
    "    \n",
    "    \n",
    "    \n",
    "    "
   ]
  },
  {
   "cell_type": "code",
   "execution_count": 75,
   "metadata": {},
   "outputs": [
    {
     "ename": "LoadError",
     "evalue": "UndefVarError: c not defined",
     "output_type": "error",
     "traceback": [
      "UndefVarError: c not defined",
      "",
      "Stacktrace:",
      " [1] macro expansion at C:\\Users\\aebou\\.julia\\packages\\JuMP\\y5vgk\\src\\macros.jl:96 [inlined]",
      " [2] formulationIP(::MetaDiGraph{Int64,Int64}) at .\\In[74]:24",
      " [3] top-level scope at In[75]:1",
      " [4] include_string(::Function, ::Module, ::String, ::String) at .\\loading.jl:1091"
     ]
    }
   ],
   "source": [
    "cost,arcs = formulationIP(pool) "
   ]
  },
  {
   "cell_type": "code",
   "execution_count": 69,
   "metadata": {},
   "outputs": [],
   "source": [
    "# Recupération des cycles de longueur < L\n",
    "cycles = get_cycles_arcs(get_cycles(pool,L))\n",
    "nb_cycles = size(cycles,1)\n",
    "# Definition des \"colonnes\" associées à chaque cycle\n",
    "# 1er element -> cout du cycle\n",
    "# 2 - nb(arcs) elements -> vaut 1 si l arc est dans le cycle, 0 sinon\n",
    "col_pool = Array{Array{Int,1},1}(undef,nb_cycles)\n",
    "cost = []\n",
    "for ind in 1:nb_cycles\n",
    "    cost = sum(weights[a] for a in cycles[ind])\n",
    "    val_arcs = zeros(Int,ne(pool))\n",
    "    val_arcs[cycles[ind]].= 1\n",
    "    col_pool[ind] = vcat(cost,val_arcs)\n",
    "end"
   ]
  },
  {
   "cell_type": "code",
   "execution_count": 70,
   "metadata": {},
   "outputs": [
    {
     "data": {
      "text/plain": [
       "3056-element Array{Array{Int64,1},1}:\n",
       " [2, 1, 0, 0, 0, 0, 0, 0, 0, 0  …  0, 0, 0, 0, 0, 0, 0, 0, 0, 0]\n",
       " [3, 1, 0, 0, 0, 1, 0, 0, 0, 0  …  0, 0, 0, 0, 0, 0, 0, 0, 0, 0]\n",
       " [6, 1, 0, 0, 0, 0, 1, 0, 0, 0  …  0, 0, 0, 0, 0, 0, 0, 0, 0, 0]\n",
       " [5, 1, 0, 0, 0, 0, 1, 0, 0, 0  …  0, 0, 0, 0, 0, 0, 0, 0, 0, 0]\n",
       " [6, 1, 0, 0, 0, 0, 1, 0, 0, 0  …  0, 0, 0, 0, 0, 0, 0, 0, 0, 0]\n",
       " [6, 1, 0, 0, 0, 0, 1, 0, 0, 0  …  0, 0, 0, 0, 0, 0, 0, 0, 0, 0]\n",
       " [6, 1, 0, 0, 0, 0, 1, 0, 0, 0  …  0, 0, 0, 0, 0, 0, 0, 0, 0, 0]\n",
       " [6, 1, 0, 0, 0, 0, 1, 0, 0, 0  …  0, 0, 0, 0, 0, 0, 0, 0, 0, 0]\n",
       " [6, 1, 0, 0, 0, 0, 0, 1, 0, 0  …  0, 0, 0, 0, 0, 0, 0, 0, 0, 0]\n",
       " [5, 1, 0, 0, 0, 0, 0, 1, 0, 0  …  0, 0, 0, 0, 0, 0, 0, 0, 0, 0]\n",
       " [6, 1, 0, 0, 0, 0, 0, 1, 0, 0  …  0, 0, 0, 0, 0, 0, 0, 0, 0, 0]\n",
       " [6, 1, 0, 0, 0, 0, 0, 1, 0, 0  …  0, 0, 0, 0, 0, 0, 0, 0, 0, 0]\n",
       " [6, 1, 0, 0, 0, 0, 0, 1, 0, 0  …  0, 0, 0, 0, 0, 0, 0, 0, 0, 0]\n",
       " ⋮\n",
       " [4, 0, 0, 0, 0, 0, 0, 0, 0, 0  …  0, 0, 0, 0, 0, 0, 0, 0, 0, 0]\n",
       " [5, 0, 0, 0, 0, 0, 0, 0, 0, 0  …  0, 0, 0, 0, 0, 0, 0, 0, 0, 0]\n",
       " [3, 0, 0, 0, 0, 0, 0, 0, 0, 0  …  0, 0, 0, 0, 0, 0, 0, 0, 0, 0]\n",
       " [4, 0, 0, 0, 0, 0, 0, 0, 0, 0  …  0, 0, 0, 0, 0, 0, 0, 0, 0, 0]\n",
       " [3, 0, 0, 0, 0, 0, 0, 0, 0, 0  …  0, 0, 1, 0, 0, 0, 0, 0, 0, 0]\n",
       " [4, 0, 0, 0, 0, 0, 0, 0, 0, 0  …  0, 0, 0, 1, 0, 0, 0, 0, 0, 0]\n",
       " [3, 0, 0, 0, 0, 0, 0, 0, 0, 0  …  0, 0, 0, 0, 0, 0, 0, 0, 1, 0]\n",
       " [4, 0, 0, 0, 0, 0, 0, 0, 0, 0  …  0, 0, 0, 0, 0, 0, 0, 0, 0, 1]\n",
       " [2, 0, 0, 0, 0, 0, 0, 0, 0, 0  …  0, 0, 1, 0, 0, 0, 0, 0, 0, 0]\n",
       " [3, 0, 0, 0, 0, 0, 0, 0, 0, 0  …  0, 0, 0, 1, 0, 0, 0, 0, 0, 0]\n",
       " [2, 0, 0, 0, 0, 0, 0, 0, 0, 0  …  0, 0, 0, 0, 0, 0, 0, 0, 1, 0]\n",
       " [3, 0, 0, 0, 0, 0, 0, 0, 0, 0  …  0, 0, 0, 0, 0, 0, 0, 0, 0, 1]"
      ]
     },
     "execution_count": 70,
     "metadata": {},
     "output_type": "execute_result"
    }
   ],
   "source": [
    "col_pool"
   ]
  }
 ],
 "metadata": {
  "kernelspec": {
   "display_name": "Julia 1.5.3",
   "language": "julia",
   "name": "julia-1.5"
  },
  "language_info": {
   "file_extension": ".jl",
   "mimetype": "application/julia",
   "name": "julia",
   "version": "1.5.3"
  }
 },
 "nbformat": 4,
 "nbformat_minor": 4
}
