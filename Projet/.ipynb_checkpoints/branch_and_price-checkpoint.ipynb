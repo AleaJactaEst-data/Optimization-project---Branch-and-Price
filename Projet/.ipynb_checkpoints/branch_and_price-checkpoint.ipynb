{
 "cells": [
  {
   "cell_type": "code",
   "execution_count": 1,
   "metadata": {},
   "outputs": [
    {
     "data": {
      "text/plain": [
       "calculate_branching (generic function with 1 method)"
      ]
     },
     "execution_count": 1,
     "metadata": {},
     "output_type": "execute_result"
    }
   ],
   "source": [
    "# Calcul des arcs sur lesquels on branche\n",
    "function calculate_branching(x)\n",
    "    arc = 0\n",
    "    found = false\n",
    "\n",
    "    for i in 1:size(x,1) \n",
    "        if (x[i]-floor(x[i]))>ϵ && (ceil(x[i])-x[i]>ϵ)\n",
    "            arc=i\n",
    "            found=true\n",
    "            break\n",
    "        end       \n",
    "    \n",
    "        found && break\n",
    "    end\n",
    "    return arc\n",
    "end\n",
    "\n"
   ]
  },
  {
   "cell_type": "code",
   "execution_count": 7,
   "metadata": {},
   "outputs": [
    {
     "data": {
      "text/plain": [
       "solve_BP (generic function with 2 methods)"
      ]
     },
     "execution_count": 7,
     "metadata": {},
     "output_type": "execute_result"
    }
   ],
   "source": [
    "function solve_BP(initialColumn = false)\n",
    "\n",
    "    global column_pool = Array{Array{Int,1},1}()\n",
    "    # Tableau en deux dimensions\n",
    "    # column_pool[i] contient les arcs qui sont inclus dans le cycle  i, il s'agit d'un vecteur de taille |A|+1 : \n",
    "    #   -Le premier element est le cout du cycle\n",
    "    #   -Les elements 2 à |A|+1 valent 1 ou 0 selon le fait que les arcs qu'ils représentent soient dans le cycle ou non\n",
    "    # on considère les arcs par leur numéro\n",
    "    \n",
    "    if initialColumn\n",
    "        SPobj,column = initial_column()\n",
    "        print(\"$(SPobj)\")\n",
    "        for i in 1:size(column,1)\n",
    "            column[i] = round(Int64,column[i])\n",
    "        end\n",
    "        push!(column_pool,vcat(SPobj,column))\n",
    "        \n",
    "        global UB = sum(sort(weights, rev=true)[1:nv(pool)])\n",
    "        global LB = SPobj\n",
    "    else\n",
    "        global UB = Inf    \n",
    "        global LB = -Inf\n",
    "    end\n",
    "    \n",
    "    push!(column_pool,vcat(-100,ones(Int,ne(pool)))) # colonne artificielle\n",
    "    push!(column_pool,vcat(0,zeros(Int,ne(pool))))    # colonne vide\n",
    "        \n",
    "    global Queue = Vector{Int}() # Liste de noeuds à traiter\n",
    "    global tree = Vector{TreeNode}() # Arbre d'énumération du branch and price\n",
    "    \n",
    "    # initialisation de l arbre avec le noeud racine\n",
    "    push!(tree,TreeNode(0,[],Inf,[],[]))   \n",
    "    push!(Queue,1)  # On met dans la liste l indice du noeud a traiter\n",
    "\n",
    "    while length(Queue)>0\n",
    "        println(\"Current list of nodes to be processed:\", Queue)\n",
    "        # on traite le premier noeud de la liste\n",
    "        current = Queue[1]\n",
    "        # Process_Node : fonction qui resoud le maitre restreint \n",
    "        # du noeud traité et qui retourne sa solution optimale\n",
    "        x = Process_Node(current)\n",
    "        # si le noeud courant est realisable et sa borne superieure interessante on branche\n",
    "        if size(x,1)!=0 && tree[current].ub >= LB\n",
    "            # pour trouver l'arc x_a sur lequel brancher\n",
    "            # on utilise la fonction calculate_branching()\n",
    "            # il retourne l'indice du premier arc a \n",
    "            # tel que  x_a soit fractionnel\n",
    "            # si il n'y a pas d'arc, retourne 0\n",
    "            arc = calculate_branching(x)\n",
    "            \n",
    "            # On procede enventuellement au branchement\n",
    "            if arc!=0 # car arc est mis à 0 si rien ne s'est passé\n",
    "                println(\"Deux nouveaux noeuds créés par branchement sur la variable x[$arc]\")\n",
    "                push!(tree,TreeNode(current,[],tree[current].ub,vcat(arc,tree[current].setzero),tree[current].setone))\n",
    "                push!(tree[current].children,length(tree))\n",
    "                push!(Queue,length(tree))\n",
    "                push!(tree,TreeNode(current,[],tree[current].ub,tree[current].setzero,vcat(arc,tree[current].setone)))\n",
    "                push!(tree[current].children,length(tree))\n",
    "                push!(Queue,length(tree))\n",
    "            else\n",
    "                println(\"La solution optimale de la relaxation est entière\")\n",
    "                println(\"Solution realisable de valeur $(tree[current].ub) trouvée\")\n",
    "            end\n",
    "        else\n",
    "            println(\"Le noeud est non réalisable ou est élagué en raison de sa borne\") \n",
    "        end\n",
    "      \n",
    "        \n",
    "        # calcul de la borne superieure globale\n",
    "        # comme le maximum des bornes supérieures des noeuds actifs\n",
    "        global UB = tree[current].ub\n",
    "        for i in Queue            \n",
    "            if tree[i].ub >= UB \n",
    "                global UB=tree[i].ub \n",
    "            end\n",
    "        end\n",
    "        # Affichage des bornes sup (UB) et inf (LB) courantes\n",
    "        println(\"LB=$LB,UB=$UB\")\n",
    "        # Elimination du noeud courant de la liste des noeuds à traiter\n",
    "        deleteat!(Queue,findfirst(x -> x == current, Queue))\n",
    "        # On supprime les noeuds dont la borne n'est pas prometteuse\n",
    "        deleteat!(Queue,unique(nodestobedeleted))\n",
    "        # STOP si l'ecart d'optimalité est suffisamment petit\n",
    "        if (2*abs(UB-LB)/abs(UB+LB))<=ϵ\n",
    "            break\n",
    "        end\n",
    "    end\n",
    "end"
   ]
  },
  {
   "cell_type": "code",
   "execution_count": null,
   "metadata": {},
   "outputs": [],
   "source": []
  }
 ],
 "metadata": {
  "kernelspec": {
   "display_name": "Julia 1.5.3",
   "language": "julia",
   "name": "julia-1.5"
  },
  "language_info": {
   "file_extension": ".jl",
   "mimetype": "application/julia",
   "name": "julia",
   "version": "1.5.3"
  }
 },
 "nbformat": 4,
 "nbformat_minor": 4
}
