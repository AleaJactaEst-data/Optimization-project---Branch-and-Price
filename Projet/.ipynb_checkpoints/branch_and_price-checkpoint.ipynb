{
 "cells": [
  {
   "cell_type": "code",
   "execution_count": 1,
   "metadata": {},
   "outputs": [
    {
     "data": {
      "text/plain": [
       "calculate_branching (generic function with 1 method)"
      ]
     },
     "execution_count": 1,
     "metadata": {},
     "output_type": "execute_result"
    }
   ],
   "source": [
    "# Calcul des arcs sur lesquels on branche\n",
    "function calculate_branching(x)\n",
    "    arc = 0\n",
    "    found = false\n",
    "\n",
    "    for i in 1:size(x,1) \n",
    "        if (x[i]-floor(x[i]))>ϵ && (ceil(x[i])-x[i]>ϵ)\n",
    "            arc=i\n",
    "            found=true\n",
    "            break\n",
    "        end       \n",
    "    \n",
    "        found && break\n",
    "    end\n",
    "    return arc\n",
    "end\n",
    "\n"
   ]
  },
  {
   "cell_type": "code",
   "execution_count": 7,
   "metadata": {},
   "outputs": [
    {
     "data": {
      "text/plain": [
       "solve_BP (generic function with 2 methods)"
      ]
     },
     "execution_count": 7,
     "metadata": {},
     "output_type": "execute_result"
    }
   ],
   "source": [
    "function solve_BP(initialColumn = false)\n",
    "\n",
    "    global column_pool = Array{Array{Int,1},1}()\n",
    "    # this is a 3-dimensional array\n",
    "    # the first index is for machines\n",
    "    # column_pool[i] contains the patterns for machine i which is a 2-dimensional array\n",
    "    # column_pool[i][j] is a pattern  (1-dimensional array = vector)\n",
    "    # pattern vectors are  such that:\n",
    "    #   -the first element is the objective value contribution\n",
    "    #   -the second to n+1 st elements are 1 or 0 depending on whether nth item is included in the pattern or not\n",
    "    #   -the last element is the contribution to the convexity constraint (it is always 1)\n",
    "\n",
    "    if initialColumn\n",
    "        SPobj,column = initial_column()\n",
    "        print(\"$(SPobj)\")\n",
    "        for i in 1:size(column,1)\n",
    "            column[i] = round(Int64,column[i])\n",
    "        end\n",
    "        push!(column_pool,vcat(SPobj,column))\n",
    "        \n",
    "        global UB = sum(sort(weights, rev=true)[1:nv(pool)])\n",
    "        global LB = SPobj\n",
    "    else\n",
    "       # set the global lower and upper bound to +,- infinity\n",
    "        global UB = Inf  # If we have a heuristic solution its value can be used   \n",
    "        global LB = -Inf # If we have an initial relaxation bound it can be used \n",
    "    end\n",
    "    \n",
    "    push!(column_pool,vcat(-100,ones(Int,ne(pool)))) # push an artificial pattern\n",
    "    #push!(column_pool,realisable)\n",
    "    push!(column_pool,vcat(0,zeros(Int,ne(pool))))    # push an empty pattern\n",
    "        \n",
    "    global Queue = Vector{Int}() # the Queue of nodes to process is an array of integers\n",
    "    global tree = Vector{TreeNode}() # the branch and price tree is an array of TreeNode objects\n",
    "    \n",
    "    # the branch and price tree is initialized with the root node\n",
    "    # the root node is its own parent, it has no children (at the moment), its UB is infinity, \n",
    "    # there are no variables set to 0 or 1 at the root node\n",
    "    push!(tree,TreeNode(0,[],Inf,[],[]))   \n",
    "    push!(Queue,1)  # the indices of nodes to be processed are pushed to the Queue\n",
    "\n",
    "    while length(Queue)>0\n",
    "        println(\"Current list of nodes to be processed:\", Queue)\n",
    "        # we will process the last node in the Queue\n",
    "        current = Queue[1]\n",
    "        # Process_Node : fonction qui resoud le maitre restreint \n",
    "        # du noeud traité et qui retourne sa solution optimale\n",
    "        x = Process_Node(current)\n",
    "        # if the current node is not infeasible and its lower\n",
    "        # bound is promising then we branch\n",
    "        #if size(x,1)!=0 && tree[current].lb <= UB\n",
    "        if size(x,1)!=0 && tree[current].ub >= LB\n",
    "            # in order to find a variable x_ij to branch on\n",
    "            # we call the function calculate_branching()\n",
    "            # it currently returns the first pair of (machine,job) indices\n",
    "            # such that x_ij fractional\n",
    "            # if no such pair is found then it returns (0,0)\n",
    "            arc = calculate_branching(x)\n",
    "            \n",
    "            # if we have found a variable to branch on \n",
    "            # then we proceed with adding the children node\n",
    "            # otherwise the optimal master LP solution is integer\n",
    "            # there is no need for branching\n",
    "            if arc!=0 # car arc est mis à 0 si rien ne s'est passé\n",
    "                println(\"Deux nouveaux noeuds créés par branchement sur la variable x[$arc]\")\n",
    "                push!(tree,TreeNode(current,[],tree[current].ub,vcat(arc,tree[current].setzero),tree[current].setone))\n",
    "                push!(tree[current].children,length(tree))\n",
    "                push!(Queue,length(tree))\n",
    "                push!(tree,TreeNode(current,[],tree[current].ub,tree[current].setzero,vcat(arc,tree[current].setone)))\n",
    "                push!(tree[current].children,length(tree))\n",
    "                push!(Queue,length(tree))\n",
    "            else\n",
    "                println(\"La solution optimale de la relaxation est entière\")\n",
    "                println(\"Solution realisable de valeur $(tree[current].ub) trouvée\")\n",
    "            end\n",
    "        else\n",
    "            println(\"Le noeud est non réalisable ou est élagué en raison de sa borne\") \n",
    "        end\n",
    "      \n",
    "        \n",
    "        # calcul de la borne superieure globale\n",
    "        # comme le maximum des bornes supérieures des noeuds actifs\n",
    "        global UB = tree[current].ub\n",
    "        for i in Queue            \n",
    "            if tree[i].ub >= UB \n",
    "                global UB=tree[i].ub \n",
    "            end\n",
    "        end\n",
    "        # Affichage des bornes sup (UB) et inf (LB) courantes\n",
    "        println(\"LB=$LB,UB=$UB\")\n",
    "        # Elimination du noeud courant de la liste des noeuds à traiter\n",
    "        deleteat!(Queue,findfirst(x -> x == current, Queue))\n",
    "        # On supprime les noeuds dont la borne n'est pas prometteuse\n",
    "        deleteat!(Queue,unique(nodestobedeleted))\n",
    "        # STOP si l'ecart d'optimalité est suffisamment petit\n",
    "        if (2*abs(UB-LB)/abs(UB+LB))<=ϵ\n",
    "            break\n",
    "        end\n",
    "    end\n",
    "end"
   ]
  },
  {
   "cell_type": "code",
   "execution_count": null,
   "metadata": {},
   "outputs": [],
   "source": []
  }
 ],
 "metadata": {
  "kernelspec": {
   "display_name": "Julia 1.5.3",
   "language": "julia",
   "name": "julia-1.5"
  },
  "language_info": {
   "file_extension": ".jl",
   "mimetype": "application/julia",
   "name": "julia",
   "version": "1.5.3"
  }
 },
 "nbformat": 4,
 "nbformat_minor": 4
}
