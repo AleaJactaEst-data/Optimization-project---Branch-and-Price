{
 "cells": [
  {
   "cell_type": "markdown",
   "metadata": {},
   "source": [
    "# Project\n"
   ]
  },
  {
   "cell_type": "code",
   "execution_count": 1,
   "metadata": {},
   "outputs": [
    {
     "data": {
      "text/plain": [
       "1.0e-5"
      ]
     },
     "execution_count": 1,
     "metadata": {},
     "output_type": "execute_result"
    }
   ],
   "source": [
    "import Pkg\n",
    "using JuMP\n",
    "using Cbc\n",
    "using DelimitedFiles\n",
    "using NBInclude\n",
    "\n",
    "const ϵ = 0.00001"
   ]
  },
  {
   "cell_type": "code",
   "execution_count": 2,
   "metadata": {},
   "outputs": [
    {
     "data": {
      "text/plain": [
       "1.0e-5"
      ]
     },
     "execution_count": 2,
     "metadata": {},
     "output_type": "execute_result"
    }
   ],
   "source": [
    "using JuMP\n",
    "#import Pkg\n",
    "#using Gurobi\n",
    "using Cbc\n",
    "#Pkg.add(\"NBInclude\")\n",
    "using DelimitedFiles\n",
    "using NBInclude\n",
    "#const GUROBI_ENV = Gurobi.Env()\n",
    "const ϵ = 0.00001"
   ]
  },
  {
   "cell_type": "code",
   "execution_count": 80,
   "metadata": {},
   "outputs": [
    {
     "data": {
      "text/plain": [
       "solve_MIP (generic function with 1 method)"
      ]
     },
     "execution_count": 80,
     "metadata": {},
     "output_type": "execute_result"
    }
   ],
   "source": [
    "#@nbinclude(\"master.ipynb\")\n",
    "#@nbinclude(\"subproblem.ipynb\")\n",
    "#@nbinclude(\"branch_and_price.ipynb\")\n",
    "#@nbinclude(\"node.ipynb\")"
   ]
  },
  {
   "cell_type": "code",
   "execution_count": 81,
   "metadata": {},
   "outputs": [
    {
     "name": "stdout",
     "output_type": "stream",
     "text": [
      "********** Read instance Example.txt ****************\n",
      "Number of machines is: 3\n",
      "Number of jobs is: 5\n",
      "Machine capacities are: [28, 26, 18]. This is a 1xm array.\n",
      "Assignment costs are: [9 19 4 29 9; 1 24 14 4 24; 24 1 34 4 14]. This is an mxn array.\n",
      "Processing times are: [11 7 22 9 15; 12 16 20 10 10; 9 20 7 23 5]. This is an mxn array.\n"
     ]
    }
   ],
   "source": [
    "global D = read_data(\"Example.txt\")"
   ]
  }
 ],
 "metadata": {
  "kernelspec": {
   "display_name": "Julia 1.5.3",
   "language": "julia",
   "name": "julia-1.5"
  },
  "language_info": {
   "file_extension": ".jl",
   "mimetype": "application/julia",
   "name": "julia",
   "version": "1.5.3"
  }
 },
 "nbformat": 4,
 "nbformat_minor": 2
}
