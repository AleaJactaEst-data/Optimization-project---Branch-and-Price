{
  "nbformat": 4,
  "nbformat_minor": 0,
  "metadata": {
    "kernelspec": {
      "name": "python3",
      "display_name": "Python 3"
    },
    "colab": {
      "name": "main.ipynb",
      "provenance": []
    },
    "accelerator": "GPU",
    "language_info": {
      "name": "python"
    }
  },
  "cells": [
    {
      "cell_type": "markdown",
      "metadata": {
        "id": "CzdBCNF9i4vE"
      },
      "source": [
        "# Project\n"
      ]
    },
    {
      "cell_type": "code",
      "metadata": {
        "id": "2JI8x-1Bi4vZ",
        "outputId": "0da4478c-ab60-4740-e76c-bcfe62011ca8",
        "colab": {
          "base_uri": "https://localhost:8080/",
          "height": 129
        }
      },
      "source": [
        "import Pkg\n",
        "using JuMP\n",
        "using Cbc\n",
        "using DelimitedFiles\n",
        "using NBInclude\n",
        "\n",
        "# constante\n",
        "const ϵ = 0.00001"
      ],
      "execution_count": 1,
      "outputs": [
        {
          "output_type": "error",
          "ename": "SyntaxError",
          "evalue": "ignored",
          "traceback": [
            "\u001b[0;36m  File \u001b[0;32m\"<ipython-input-1-728993742858>\"\u001b[0;36m, line \u001b[0;32m2\u001b[0m\n\u001b[0;31m    using JuMP\u001b[0m\n\u001b[0m             ^\u001b[0m\n\u001b[0;31mSyntaxError\u001b[0m\u001b[0;31m:\u001b[0m invalid syntax\n"
          ]
        }
      ]
    },
    {
      "cell_type": "code",
      "metadata": {
        "id": "-GNkjzpQi4vc",
        "outputId": "d4b2b8d9-1415-4d48-96d3-68049c11e1f4"
      },
      "source": [
        "using JuMP\n",
        "#import Pkg\n",
        "#using Gurobi\n",
        "using Cbc\n",
        "#Pkg.add(\"NBInclude\")\n",
        "using DelimitedFiles\n",
        "using NBInclude\n",
        "#const GUROBI_ENV = Gurobi.Env()\n",
        "const ϵ = 0.00001"
      ],
      "execution_count": null,
      "outputs": [
        {
          "output_type": "execute_result",
          "data": {
            "text/plain": [
              "1.0e-5"
            ]
          },
          "metadata": {
            "tags": []
          },
          "execution_count": 2
        }
      ]
    },
    {
      "cell_type": "code",
      "metadata": {
        "id": "MHR_s_Mxi4vd",
        "outputId": "4b625b31-27e5-407d-c628-4b2fcf765e55"
      },
      "source": [
        "#@nbinclude(\"master.ipynb\")\n",
        "#@nbinclude(\"subproblem.ipynb\")\n",
        "#@nbinclude(\"branch_and_price.ipynb\")\n",
        "#@nbinclude(\"node.ipynb\")"
      ],
      "execution_count": null,
      "outputs": [
        {
          "output_type": "execute_result",
          "data": {
            "text/plain": [
              "solve_MIP (generic function with 1 method)"
            ]
          },
          "metadata": {
            "tags": []
          },
          "execution_count": 80
        }
      ]
    },
    {
      "cell_type": "code",
      "metadata": {
        "id": "BZiwTZxqi4vh",
        "outputId": "0ac3bf47-f836-4191-889c-069725e07ba2"
      },
      "source": [
        "global D = read_data(\"Example.txt\")"
      ],
      "execution_count": null,
      "outputs": [
        {
          "output_type": "stream",
          "text": [
            "********** Read instance Example.txt ****************\n",
            "Number of machines is: 3\n",
            "Number of jobs is: 5\n",
            "Machine capacities are: [28, 26, 18]. This is a 1xm array.\n",
            "Assignment costs are: [9 19 4 29 9; 1 24 14 4 24; 24 1 34 4 14]. This is an mxn array.\n",
            "Processing times are: [11 7 22 9 15; 12 16 20 10 10; 9 20 7 23 5]. This is an mxn array.\n"
          ],
          "name": "stdout"
        }
      ]
    },
    {
      "cell_type": "code",
      "metadata": {
        "id": "JLIbbFNhjEop",
        "outputId": "7fa21783-da2f-4dd5-f569-fafdb117a95b",
        "colab": {
          "base_uri": "https://localhost:8080/"
        }
      },
      "source": [
        ""
      ],
      "execution_count": 2,
      "outputs": [
        {
          "output_type": "stream",
          "text": [
            "0\n",
            "1\n",
            "2\n",
            "3\n",
            "4\n"
          ],
          "name": "stdout"
        }
      ]
    }
  ]
}
