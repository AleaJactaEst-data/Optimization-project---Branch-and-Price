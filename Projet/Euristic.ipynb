{
 "cells": [
  {
   "cell_type": "code",
   "execution_count": 5,
   "metadata": {},
   "outputs": [
    {
     "name": "stderr",
     "output_type": "stream",
     "text": [
      "\u001b[32m\u001b[1m  Resolving\u001b[22m\u001b[39m package versions...\n",
      "\u001b[32m\u001b[1mNo Changes\u001b[22m\u001b[39m to `C:\\Users\\xgodw\\.julia\\environments\\v1.5\\Project.toml`\n",
      "\u001b[32m\u001b[1mNo Changes\u001b[22m\u001b[39m to `C:\\Users\\xgodw\\.julia\\environments\\v1.5\\Manifest.toml`\n",
      "\u001b[32m\u001b[1m  Resolving\u001b[22m\u001b[39m package versions...\n",
      "\u001b[32m\u001b[1mNo Changes\u001b[22m\u001b[39m to `C:\\Users\\xgodw\\.julia\\environments\\v1.5\\Project.toml`\n",
      "\u001b[32m\u001b[1mNo Changes\u001b[22m\u001b[39m to `C:\\Users\\xgodw\\.julia\\environments\\v1.5\\Manifest.toml`\n",
      "\u001b[32m\u001b[1m  Resolving\u001b[22m\u001b[39m package versions...\n",
      "\u001b[32m\u001b[1mNo Changes\u001b[22m\u001b[39m to `C:\\Users\\xgodw\\.julia\\environments\\v1.5\\Project.toml`\n",
      "\u001b[32m\u001b[1mNo Changes\u001b[22m\u001b[39m to `C:\\Users\\xgodw\\.julia\\environments\\v1.5\\Manifest.toml`\n",
      "\u001b[32m\u001b[1m  Resolving\u001b[22m\u001b[39m package versions..."
     ]
    },
    {
     "name": "stdout",
     "output_type": "stream",
     "text": [
      "Academic license - for non-commercial use only - expires 2021-06-07\n"
     ]
    },
    {
     "name": "stderr",
     "output_type": "stream",
     "text": [
      "\n",
      "\u001b[32m\u001b[1mNo Changes\u001b[22m\u001b[39m to `C:\\Users\\xgodw\\.julia\\environments\\v1.5\\Project.toml`\n",
      "\u001b[32m\u001b[1mNo Changes\u001b[22m\u001b[39m to `C:\\Users\\xgodw\\.julia\\environments\\v1.5\\Manifest.toml`\n",
      "WARNING: redefinition of constant GUROBI_ENV. This may fail, cause incorrect answers, or produce other errors.\n"
     ]
    },
    {
     "data": {
      "text/plain": [
       "1.0e-5"
      ]
     },
     "execution_count": 5,
     "metadata": {},
     "output_type": "execute_result"
    }
   ],
   "source": [
    "using JuMP\n",
    "using Cbc\n",
    "using DelimitedFiles\n",
    "using NBInclude\n",
    "using GLPK\n",
    "using Gurobi\n",
    "const GUROBI_ENV = Gurobi.Env()\n",
    "const L = 6\n",
    "\n",
    "# constante epsilon\n",
    "const ϵ = 0.00001"
   ]
  },
  {
   "cell_type": "code",
   "execution_count": 10,
   "metadata": {},
   "outputs": [
    {
     "data": {
      "text/plain": [
       "initial_column (generic function with 1 method)"
      ]
     },
     "execution_count": 10,
     "metadata": {},
     "output_type": "execute_result"
    }
   ],
   "source": [
    "function initial_column()\n",
    "    SP=Model(optimizer_with_attributes(() -> Gurobi.Optimizer(GUROBI_ENV)))\n",
    "    set_optimizer_attribute(SP, \"OutputFlag\", 0)\n",
    "    \n",
    "    # Definition x_a = 1 si l'arc a est dans le cycle retenu, 0 sinon\n",
    "    @variable(SP,x[a in 1:ne(pool)],Bin)\n",
    "    \n",
    "    # Definition de y_i = 1 si paire i dans le cycle retenu, 0 sinon\n",
    "    @variable(SP,y[i in 1:nv(pool)],Bin)\n",
    "    \n",
    "    \n",
    "    for vertice in 1:nv(pool)\n",
    "        @constraint(SP,sum(x[a] for a in origine[vertice]) == sum(x[a] for a in dest[vertice]) )\n",
    "        #Contrainte : y_i vaut 1 ssi il y a un arc qui sort de la paire i qui est choisi dans le cycle\n",
    "        @constraint(SP, y[vertice] == sum(x[a] for a in origine[vertice]))\n",
    "    end\n",
    "    \n",
    "    # Contrainte : le cycle doit être de longueur inférieure à L \n",
    "    @constraint(SP, sum(x[a] for a in 1:ne(pool)) <= L) \n",
    "    \n",
    "    # On veut un cycle, donc on doit avoir au moins deux sommets\n",
    "    @constraint(SP, sum(y[i] for i in 1:nv(pool)) >= 2)\n",
    "    \n",
    "    # Objectif : maximiser le coût réduit\n",
    "    @objective(SP,Max,sum( weights[a]*x[a] for a in 1:ne(pool) ))\n",
    "    \n",
    "\n",
    "    optimize!(SP)\n",
    "\n",
    "    # If the subproblem is solved to optimality then return its objective value\n",
    "    # and the optimal cycle solution\n",
    "    # Else the pricing problem is infeasible return Inf, []\n",
    "    if JuMP.termination_status(SP)==MOI.OPTIMAL\n",
    "        return JuMP.objective_value(SP),JuMP.value.(x)\n",
    "    else\n",
    "        return Inf,[]\n",
    "    end\n",
    "\n",
    "end"
   ]
  },
  {
   "cell_type": "code",
   "execution_count": 11,
   "metadata": {},
   "outputs": [
    {
     "ename": "LoadError",
     "evalue": "UndefVarError: ne not defined",
     "output_type": "error",
     "traceback": [
      "UndefVarError: ne not defined",
      "",
      "Stacktrace:",
      " [1] macro expansion at C:\\Users\\xgodw\\.julia\\packages\\JuMP\\y5vgk\\src\\macros.jl:96 [inlined]",
      " [2] initial_column() at .\\In[10]:6",
      " [3] top-level scope at In[11]:1",
      " [4] include_string(::Function, ::Module, ::String, ::String) at .\\loading.jl:1091"
     ]
    }
   ],
   "source": []
  },
  {
   "cell_type": "code",
   "execution_count": null,
   "metadata": {},
   "outputs": [],
   "source": []
  }
 ],
 "metadata": {
  "kernelspec": {
   "display_name": "Julia 1.5.3",
   "language": "julia",
   "name": "julia-1.5"
  },
  "language_info": {
   "file_extension": ".jl",
   "mimetype": "application/julia",
   "name": "julia",
   "version": "1.5.3"
  }
 },
 "nbformat": 4,
 "nbformat_minor": 4
}
