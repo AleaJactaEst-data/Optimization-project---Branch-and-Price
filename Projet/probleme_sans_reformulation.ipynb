{
 "cells": [
  {
   "cell_type": "code",
   "execution_count": 4,
   "metadata": {},
   "outputs": [
    {
     "data": {
      "text/plain": [
       "getEdge (generic function with 1 method)"
      ]
     },
     "execution_count": 4,
     "metadata": {},
     "output_type": "execute_result"
    }
   ],
   "source": [
    "#FONCTIONS A AJOUTER\n",
    "\n",
    "# Recuperation des arcs\n",
    "function getEdge(kep)\n",
    "    edge_list = Array{Array{Int64,1},1}()\n",
    "    for (ind,arc) in enumerate(edges(kep))\n",
    "            push!(edge_list,[src(arc), dst(arc)])\n",
    "    end\n",
    "    return edge_list\n",
    "end\n",
    "\n",
    "getEdge(pool)\n",
    "\n",
    "#Recuperation de tous les chemins de longueur L+1\n",
    "function getPath_L(pool)\n",
    "    all_path = simplecycles_hawick_james(pool) #Recuperation de tous les chemins du graphe\n",
    "    path_L=[]\n",
    "    L=6\n",
    "    for i in all_path #Recuperation des chemins de longueur L+1 dans path_L\n",
    "        if length(i) == L+1\n",
    "            push!(path_L, i)\n",
    "        end\n",
    "    end\n",
    "    return path_L\n",
    "end"
   ]
  },
  {
   "cell_type": "code",
   "execution_count": 5,
   "metadata": {},
   "outputs": [
    {
     "ename": "LoadError",
     "evalue": "UndefVarError: set_optimizer not defined",
     "output_type": "error",
     "traceback": [
      "UndefVarError: set_optimizer not defined",
      "",
      "Stacktrace:",
      " [1] top-level scope at In[5]:10",
      " [2] include_string(::Function, ::Module, ::String, ::String) at .\\loading.jl:1091"
     ]
    }
   ],
   "source": [
    "# Le probleme\n",
    "\n",
    "# Le modèle : choisir un des 2 selon votre ORDI\n",
    "#model = Model()\n",
    "\n",
    "#model=Model(optimizer_with_attributes(() -> Gurobi.Optimizer(GUROBI_ENV)))\n",
    "set_optimizer_attribute(model, \"OutputFlag\", 0) #???? parametre a modifier\n",
    "\n",
    "# Le solver\n",
    "statut = set_optimizer(model, GLPK.Optimizer)\n",
    "\n",
    "# Les donnees\n",
    "path_L = getPath_L(pool)\n",
    "\n",
    "#Ensemble des arcs sous la forme [i,j]\n",
    "edge_list = getEdge(pool); #Penser a ajouter la fonction PROBLEME_SANS_REFORMULATION\n",
    "\n",
    "#Nombre de sommets\n",
    "E = ne(pool)\n",
    "V = nv(pool)\n",
    "\n",
    "#Les variables\n",
    "@variable(model, x[1:E,, 1:E], Edge)\n",
    "\n",
    "#La fonction objective\n",
    "@objective(model, Max, sum(x[e[1],e[2]] for e=1:E))\n",
    "\n",
    "#les contraintes\n",
    "#Premiere contrainte\n",
    "for i = 1:V\n",
    "    E_1 = [] #Ensemble des arcs ou i est le depart\n",
    "    E_2 = [] #Ensemble des arcs ou i est l arrivee\n",
    "    #Recuperer les arcs ou il y a i en extremite\n",
    "    for e = edge_list\n",
    "        if e[1] == i\n",
    "            push!(E_1, e[2])\n",
    "        end\n",
    "        if e[2] == i\n",
    "            push!(E_2, e[1])\n",
    "        end\n",
    "    end     \n",
    "    #La contrainte sur le sommet i\n",
    "    @constraint(model, sum(x[e, i] for e=E_2) == sum(x[i, e for e=E_1))\n",
    "end\n",
    "\n",
    "#Deuxieme contrainte\n",
    "for i = 1:V\n",
    "    E_i = [] #Ensemble des arcs ou i est l arrivee\n",
    "    #Recuperer les arcs ou il y a i en extremite\n",
    "    for e=1:E\n",
    "        if e[1] == i\n",
    "            push!(E_i, e[2])\n",
    "        end\n",
    "    end\n",
    "    #La contrainte sur le sommet i\n",
    "    @constraint(model, sum(x[i, e[2]] for e =1:E_i) <= 1)\n",
    "end\n",
    "\n",
    "#Troisieme contrainte\n",
    "for p in path_L #Pour tous les chemins de longueur L+1\n",
    "    @constraint(model, sum(x[p[j], p[j+1]] for j=1:L) <= L-1)"
   ]
  }
 ],
 "metadata": {
  "kernelspec": {
   "display_name": "Julia 1.5.3",
   "language": "julia",
   "name": "julia-1.5"
  },
  "language_info": {
   "file_extension": ".jl",
   "mimetype": "application/julia",
   "name": "julia",
   "version": "1.5.3"
  }
 },
 "nbformat": 4,
 "nbformat_minor": 4
}
