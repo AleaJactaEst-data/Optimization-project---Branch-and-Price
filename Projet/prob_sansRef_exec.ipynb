{
 "cells": [
  {
   "cell_type": "code",
   "execution_count": 37,
   "metadata": {},
   "outputs": [
    {
     "name": "stderr",
     "output_type": "stream",
     "text": [
      "\u001b[32m\u001b[1m  Resolving\u001b[22m\u001b[39m package versions...\n",
      "\u001b[32m\u001b[1mNo Changes\u001b[22m\u001b[39m to `C:\\Users\\33777\\.julia\\environments\\v1.5\\Project.toml`\n",
      "\u001b[32m\u001b[1mNo Changes\u001b[22m\u001b[39m to `C:\\Users\\33777\\.julia\\environments\\v1.5\\Manifest.toml`\n",
      "\u001b[32m\u001b[1m  Resolving\u001b[22m\u001b[39m package versions...\n",
      "\u001b[32m\u001b[1mNo Changes\u001b[22m\u001b[39m to `C:\\Users\\33777\\.julia\\environments\\v1.5\\Project.toml`\n",
      "\u001b[32m\u001b[1mNo Changes\u001b[22m\u001b[39m to `C:\\Users\\33777\\.julia\\environments\\v1.5\\Manifest.toml`\n"
     ]
    }
   ],
   "source": [
    "import Pkg\n",
    "Pkg.add(\"Cbc\")\n",
    "Pkg.add(\"JuMP\")"
   ]
  },
  {
   "cell_type": "code",
   "execution_count": 50,
   "metadata": {},
   "outputs": [
    {
     "name": "stderr",
     "output_type": "stream",
     "text": [
      "\u001b[32m\u001b[1m  Resolving\u001b[22m\u001b[39m package versions...\n",
      "\u001b[32m\u001b[1mNo Changes\u001b[22m\u001b[39m to `C:\\Users\\33777\\.julia\\environments\\v1.5\\Project.toml`\n",
      "\u001b[32m\u001b[1mNo Changes\u001b[22m\u001b[39m to `C:\\Users\\33777\\.julia\\environments\\v1.5\\Manifest.toml`\n",
      "\u001b[32m\u001b[1m  Resolving\u001b[22m\u001b[39m package versions...\n",
      "\u001b[32m\u001b[1mNo Changes\u001b[22m\u001b[39m to `C:\\Users\\33777\\.julia\\environments\\v1.5\\Project.toml`\n",
      "\u001b[32m\u001b[1mNo Changes\u001b[22m\u001b[39m to `C:\\Users\\33777\\.julia\\environments\\v1.5\\Manifest.toml`\n",
      "\u001b[32m\u001b[1m  Resolving\u001b[22m\u001b[39m package versions...\n"
     ]
    },
    {
     "name": "stdout",
     "output_type": "stream",
     "text": [
      "Academic license - for non-commercial use only - expires 2021-07-05\n"
     ]
    },
    {
     "name": "stderr",
     "output_type": "stream",
     "text": [
      "\u001b[32m\u001b[1mNo Changes\u001b[22m\u001b[39m to `C:\\Users\\33777\\.julia\\environments\\v1.5\\Project.toml`\n",
      "\u001b[32m\u001b[1mNo Changes\u001b[22m\u001b[39m to `C:\\Users\\33777\\.julia\\environments\\v1.5\\Manifest.toml`\n",
      "WARNING: redefinition of constant GUROBI_ENV. This may fail, cause incorrect answers, or produce other errors.\n"
     ]
    },
    {
     "data": {
      "text/plain": [
       "1.0e-5"
      ]
     },
     "execution_count": 50,
     "metadata": {},
     "output_type": "execute_result"
    }
   ],
   "source": [
    "Pkg.add(\"GLPK\")\n",
    "Pkg.add(\"Gurobi\")\n",
    "Pkg.add(\"IterTools\")\n",
    "using JuMP\n",
    "using Cbc\n",
    "using DelimitedFiles\n",
    "using NBInclude\n",
    "#using GLPK\n",
    "using Gurobi\n",
    "const GUROBI_ENV = Gurobi.Env()\n",
    "const L = 6\n",
    "using IterTools\n",
    "\n",
    "# constante epsilon\n",
    "const ϵ = 0.00001"
   ]
  },
  {
   "cell_type": "code",
   "execution_count": 51,
   "metadata": {},
   "outputs": [
    {
     "name": "stderr",
     "output_type": "stream",
     "text": [
      "\u001b[32m\u001b[1m  Resolving\u001b[22m\u001b[39m package versions...\n",
      "\u001b[32m\u001b[1mNo Changes\u001b[22m\u001b[39m to `C:\\Users\\33777\\.julia\\environments\\v1.5\\Project.toml`\n",
      "\u001b[32m\u001b[1mNo Changes\u001b[22m\u001b[39m to `C:\\Users\\33777\\.julia\\environments\\v1.5\\Manifest.toml`\n",
      "\u001b[32m\u001b[1m  Resolving\u001b[22m\u001b[39m package versions...\n",
      "\u001b[32m\u001b[1mNo Changes\u001b[22m\u001b[39m to `C:\\Users\\33777\\.julia\\environments\\v1.5\\Project.toml`\n",
      "\u001b[32m\u001b[1mNo Changes\u001b[22m\u001b[39m to `C:\\Users\\33777\\.julia\\environments\\v1.5\\Manifest.toml`\n",
      "\u001b[32m\u001b[1m  Resolving\u001b[22m\u001b[39m package versions...\n",
      "\u001b[32m\u001b[1mNo Changes\u001b[22m\u001b[39m to `C:\\Users\\33777\\.julia\\environments\\v1.5\\Project.toml`\n",
      "\u001b[32m\u001b[1mNo Changes\u001b[22m\u001b[39m to `C:\\Users\\33777\\.julia\\environments\\v1.5\\Manifest.toml`\n",
      "\u001b[32m\u001b[1m  Resolving\u001b[22m\u001b[39m package versions...\n",
      "\u001b[32m\u001b[1mNo Changes\u001b[22m\u001b[39m to `C:\\Users\\33777\\.julia\\environments\\v1.5\\Project.toml`\n",
      "\u001b[32m\u001b[1mNo Changes\u001b[22m\u001b[39m to `C:\\Users\\33777\\.julia\\environments\\v1.5\\Manifest.toml`\n"
     ]
    },
    {
     "name": "stdout",
     "output_type": "stream",
     "text": [
      "Academic license - for non-commercial use only - expires 2021-07-05\n"
     ]
    },
    {
     "name": "stderr",
     "output_type": "stream",
     "text": [
      "WARNING: redefinition of constant GUROBI_ENV. This may fail, cause incorrect answers, or produce other errors.\n"
     ]
    }
   ],
   "source": [
    "@nbinclude(\"dataparser.ipynb\");\n",
    "@nbinclude(\"Euristic.ipynb\");\n",
    "@nbinclude(\"classes.ipynb\");\n",
    "@nbinclude(\"traitement_noeuds.ipynb\");\n",
    "@nbinclude(\"branch_and_price.ipynb\");\n",
    "@nbinclude(\"colonnes.ipynb\");\n",
    "#@nbinclude(\"utiles.ipynb\")"
   ]
  },
  {
   "cell_type": "code",
   "execution_count": 52,
   "metadata": {},
   "outputs": [
    {
     "data": {
      "text/plain": [
       "getPath_L (generic function with 1 method)"
      ]
     },
     "execution_count": 52,
     "metadata": {},
     "output_type": "execute_result"
    }
   ],
   "source": [
    "# Pour chaque paire, on va récupérer les arcs dont ils sont l'origine (calcul du demi-degré extérieur des sommets du graphe)\n",
    "function degreExt(kep)\n",
    "    origine = Array{Array{Int64,1},1}()\n",
    "    for v in 1:nv(kep)\n",
    "        # On recupère les indices des arcs dont l'origine est v\n",
    "        origin_v = Array{Int64,1}()\n",
    "        for (ind,arc) in enumerate(edges(kep))\n",
    "            if src(arc) == v\n",
    "                push!(origin_v,ind)\n",
    "            end\n",
    "        end\n",
    "        push!(origine,origin_v)\n",
    "    end\n",
    "    return origine\n",
    "end\n",
    "\n",
    "# Pour chaque paire, on va récupérer les arcs dont ils sont la destination (calcul du demi-degré intérieur des sommets)\n",
    "function degreInt(kep)\n",
    "    dest = Array{Array{Int64,1},1}()\n",
    "    for v in 1:nv(kep)\n",
    "        # On recupère les indices des arcs dont l'origine est v\n",
    "        dest_v = Array{Int64,1}()\n",
    "        for (ind,arc) in enumerate(edges(kep))\n",
    "            if dst(arc) == v\n",
    "                push!(dest_v,ind)\n",
    "            end\n",
    "        end\n",
    "        push!(dest,dest_v)\n",
    "    end\n",
    "    return dest\n",
    "end\n",
    "\n",
    "#FONCTIONS A AJOUTER\n",
    "\n",
    "# Recuperation des arcs\n",
    "function getEdge(kep)\n",
    "    edge_list = Array{Array{Int64,1},1}()\n",
    "    for (ind,arc) in enumerate(edges(kep))\n",
    "            push!(edge_list,[src(arc), dst(arc)])\n",
    "    end\n",
    "    return edge_list\n",
    "end\n",
    "\n",
    "getEdge(pool)\n",
    "\n",
    "#Recuperation de tous les chemins de longueur L+1\n",
    "function getPath_L(pool)\n",
    "    all_path = simplecycles_hawick_james(pool) #Recuperation de tous les chemins du graphe\n",
    "    path_L=[]\n",
    "    L=6\n",
    "    for i in all_path #Recuperation des chemins de longueur L+1 dans path_L\n",
    "        if length(i) == L+1\n",
    "            push!(path_L, i)\n",
    "        end\n",
    "    end\n",
    "    return path_L\n",
    "end"
   ]
  },
  {
   "cell_type": "code",
   "execution_count": 53,
   "metadata": {},
   "outputs": [
    {
     "ename": "LoadError",
     "evalue": "UndefVarError: optimizer_with_attributes not defined",
     "output_type": "error",
     "traceback": [
      "UndefVarError: optimizer_with_attributes not defined",
      "",
      "Stacktrace:",
      " [1] top-level scope at In[53]:6",
      " [2] include_string(::Function, ::Module, ::String, ::String) at .\\loading.jl:1091"
     ]
    }
   ],
   "source": [
    "# Le probleme\n",
    "\n",
    "# Le modèle : choisir un des 2 selon votre ORDI\n",
    "#model = Model()\n",
    "\n",
    "model=Model(optimizer_with_attributes(() -> Gurobi.Optimizer(GUROBI_ENV)))\n",
    "set_optimizer_attribute(model, \"OutputFlag\", 0) #???? parametre a modifier\n",
    "\n",
    "# Les donnees\n",
    "path_L = getPath_L(pool)\n",
    "#Ensemble des arcs sous la forme [i,j]\n",
    "edge_list = getEdge(pool); #Penser a ajouter la fonction PROBLEME_SANS_REFORMULATION\n",
    "\n",
    "#Nombre de sommets\n",
    "E = ne(pool)\n",
    "V = nv(pool)\n",
    "\n",
    "#Les variables\n",
    "@variable(model, x[i in 1:V, j in 1:V], Bin)\n",
    "\n",
    "#La fonction objective\n",
    "@objective(model, Max, sum(sum(x[i,j] for i in 1:V) for j in 1:V))\n",
    "\n",
    "#Les contraintes\n",
    "for i in 1:V\n",
    "    for j in 1:V\n",
    "        if !([i,j] in edge_list)\n",
    "            @constraint(model, x[i,j]==0)\n",
    "        end\n",
    "    end\n",
    "end\n",
    "\n",
    "#Deuxieme contrainte\n",
    "for i in 1:V\n",
    "    E_i = [] #Ensemble des arcs ou i est l arrivee\n",
    "    #Recuperer les arcs ou il y a i en extremite\n",
    "    for e in edge_list\n",
    "        if e[1] == i\n",
    "            push!(E_i, e[2])\n",
    "        end\n",
    "    end\n",
    "    #La contrainte sur le sommet i\n",
    "    @constraint(model, sum(x[i, e] for e in E_i) <= 1)\n",
    "end\n",
    "\n",
    "#Troisieme contrainte\n",
    "for p in path_L #Pour tous les chemins de longueur L+1\n",
    "    @constraint(model, sum(x[p[j], p[j+1]] for j in 1:L) <= L-1)\n",
    "end"
   ]
  },
  {
   "cell_type": "code",
   "execution_count": 54,
   "metadata": {},
   "outputs": [
    {
     "ename": "LoadError",
     "evalue": "UndefVarError: optimize! not defined",
     "output_type": "error",
     "traceback": [
      "UndefVarError: optimize! not defined",
      "",
      "Stacktrace:",
      " [1] top-level scope at In[54]:2",
      " [2] include_string(::Function, ::Module, ::String, ::String) at .\\loading.jl:1091"
     ]
    }
   ],
   "source": [
    "#Résolution du problème\n",
    "optimize!(model)"
   ]
  },
  {
   "cell_type": "code",
   "execution_count": null,
   "metadata": {},
   "outputs": [],
   "source": [
    "#Valeur objective du modèle\n",
    "objective_value(model)"
   ]
  },
  {
   "cell_type": "code",
   "execution_count": null,
   "metadata": {},
   "outputs": [],
   "source": [
    "#Affichage solution\n",
    "\n",
    "x_value = JuMP.value.(x)\n",
    "solu_x = []\n",
    "for i = 1:V\n",
    "    for j = 1:V\n",
    "        if(x_value[i,j]==1)\n",
    "            push!(solu_x, [i,j])\n",
    "        end\n",
    "    end\n",
    "end"
   ]
  }
 ],
 "metadata": {
  "kernelspec": {
   "display_name": "Julia 1.5.3",
   "language": "julia",
   "name": "julia-1.5"
  },
  "language_info": {
   "file_extension": ".jl",
   "mimetype": "application/julia",
   "name": "julia",
   "version": "1.5.3"
  }
 },
 "nbformat": 4,
 "nbformat_minor": 4
}
