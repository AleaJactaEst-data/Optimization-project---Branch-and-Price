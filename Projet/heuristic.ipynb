{
 "cells": [
  {
   "cell_type": "code",
   "execution_count": 10,
   "metadata": {},
   "outputs": [
    {
     "data": {
      "text/plain": [
       "initial_column (generic function with 1 method)"
      ]
     },
     "execution_count": 10,
     "metadata": {},
     "output_type": "execute_result"
    }
   ],
   "source": [
    "# Fonction qui trouve une solution initiale realisable\n",
    "function initial_column()\n",
    "    SP=Model(optimizer_with_attributes(() -> Gurobi.Optimizer(GUROBI_ENV)))\n",
    "    set_optimizer_attribute(SP, \"OutputFlag\", 0)\n",
    "    \n",
    "    # Definition x_a = 1 si l'arc a est dans le cycle retenu, 0 sinon\n",
    "    @variable(SP,x[a in 1:ne(pool)],Bin)\n",
    "    \n",
    "    # Definition de y_i = 1 si paire i dans le cycle retenu, 0 sinon\n",
    "    @variable(SP,y[i in 1:nv(pool)],Bin)\n",
    "    \n",
    "    \n",
    "    for vertice in 1:nv(pool)\n",
    "        @constraint(SP,sum(x[a] for a in origine[vertice]) == sum(x[a] for a in dest[vertice]) )\n",
    "        #Contrainte : y_i vaut 1 ssi il y a un arc qui sort de la paire i qui est choisi dans le cycle\n",
    "        @constraint(SP, y[vertice] == sum(x[a] for a in origine[vertice]))\n",
    "    end\n",
    "    \n",
    "    # Contrainte : le cycle doit être de longueur inférieure à L \n",
    "    @constraint(SP, sum(x[a] for a in 1:ne(pool)) <= L) \n",
    "    \n",
    "    # On veut un cycle, donc on doit avoir au moins deux sommets\n",
    "    @constraint(SP, sum(y[i] for i in 1:nv(pool)) >= 2)\n",
    "    \n",
    "    # Objectif : maximiser le coût réduit\n",
    "    @objective(SP,Max,sum( weights[a]*x[a] for a in 1:ne(pool) ))\n",
    "    \n",
    "\n",
    "    optimize!(SP)\n",
    "\n",
    "    # If the subproblem is solved to optimality then return its objective value\n",
    "    # and the optimal cycle solution\n",
    "    # Else the pricing problem is infeasible return Inf, []\n",
    "    if JuMP.termination_status(SP)==MOI.OPTIMAL\n",
    "        return JuMP.objective_value(SP),JuMP.value.(x)\n",
    "    else\n",
    "        return Inf,[]\n",
    "    end\n",
    "\n",
    "end"
   ]
  },
  {
   "cell_type": "code",
   "execution_count": 1,
   "metadata": {},
   "outputs": [
    {
     "data": {
      "text/plain": [
       "init_col (generic function with 1 method)"
      ]
     },
     "execution_count": 1,
     "metadata": {},
     "output_type": "execute_result"
    }
   ],
   "source": [
    "# Génération de colonne bidon \n",
    "function init_col(pool)\n",
    "    added_node = zeros(Int,nv(pool))\n",
    "    edge_selected = zeros(Int,ne(pool))\n",
    "    for (ind,arc) in enumerate(edges(pool))\n",
    "        if added_node[src(arc)] ==0 && added_node[dst(arc)] == 0\n",
    "            edge_selected[ind]=1\n",
    "            added_node[src(arc)]=1\n",
    "            added_node[dst(arc)]=1\n",
    "        end\n",
    "    end\n",
    "    return vcat(-1000,edge_selected)\n",
    "end\n",
    "\n",
    "            \n",
    "        "
   ]
  }
 ],
 "metadata": {
  "kernelspec": {
   "display_name": "Julia 1.5.3",
   "language": "julia",
   "name": "julia-1.5"
  },
  "language_info": {
   "file_extension": ".jl",
   "mimetype": "application/julia",
   "name": "julia",
   "version": "1.5.3"
  }
 },
 "nbformat": 4,
 "nbformat_minor": 4
}
